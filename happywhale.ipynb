{
 "cells": [
  {
   "cell_type": "code",
   "execution_count": 1,
   "id": "bdda024c",
   "metadata": {
    "_cell_guid": "b1076dfc-b9ad-4769-8c92-a6c4dae69d19",
    "_uuid": "8f2839f25d086af736a60e9eeb907d3b93b6e0e5",
    "execution": {
     "iopub.execute_input": "2022-02-28T00:05:12.482273Z",
     "iopub.status.busy": "2022-02-28T00:05:12.480179Z",
     "iopub.status.idle": "2022-02-28T00:05:12.799860Z",
     "shell.execute_reply": "2022-02-28T00:05:12.798991Z",
     "shell.execute_reply.started": "2022-02-27T21:56:56.412698Z"
    },
    "papermill": {
     "duration": 0.333938,
     "end_time": "2022-02-28T00:05:12.800074",
     "exception": false,
     "start_time": "2022-02-28T00:05:12.466136",
     "status": "completed"
    },
    "tags": []
   },
   "outputs": [],
   "source": [
    "import numpy as np # linear algebra\n",
    "import pandas as pd # data processing, CSV file I/O (e.g. pd.read_csv)\n",
    "import cv2\n",
    "import matplotlib.pyplot as plt\n",
    "import os\n",
    "\n",
    "\"\"\"\n",
    "Directories :\n",
    "/kaggle/input\n",
    " - happy-whale-and-dolphin\n",
    "   sample_submission.csv\n",
    "   train.csv\n",
    "   - train_images\n",
    "   - test_images\n",
    "\n",
    "\"\"\"\n",
    "#%rm /kaggle/working/*\n",
    "files = ['/kaggle/input/happy-whale-and-dolphin/sample_submission.csv', '/kaggle/input/happy-whale-and-dolphin/train.csv']\n",
    "\n",
    "# You can write up to 20GB to the current directory (/kaggle/working/) that gets preserved as output when you create a version using \"Save & Run All\" \n",
    "# You can also write temporary files to /kaggle/temp/, but they won't be saved outside of the current session"
   ]
  },
  {
   "cell_type": "markdown",
   "id": "3956a3fa",
   "metadata": {
    "papermill": {
     "duration": 0.006575,
     "end_time": "2022-02-28T00:05:12.816388",
     "exception": false,
     "start_time": "2022-02-28T00:05:12.809813",
     "status": "completed"
    },
    "tags": []
   },
   "source": [
    "## Lecture des fichiers csv"
   ]
  },
  {
   "cell_type": "code",
   "execution_count": 2,
   "id": "e6880f7e",
   "metadata": {
    "execution": {
     "iopub.execute_input": "2022-02-28T00:05:12.836298Z",
     "iopub.status.busy": "2022-02-28T00:05:12.835590Z",
     "iopub.status.idle": "2022-02-28T00:05:13.007416Z",
     "shell.execute_reply": "2022-02-28T00:05:13.007989Z",
     "shell.execute_reply.started": "2022-02-27T21:56:56.421602Z"
    },
    "papermill": {
     "duration": 0.185137,
     "end_time": "2022-02-28T00:05:13.008194",
     "exception": false,
     "start_time": "2022-02-28T00:05:12.823057",
     "status": "completed"
    },
    "tags": []
   },
   "outputs": [
    {
     "data": {
      "text/html": [
       "<div>\n",
       "<style scoped>\n",
       "    .dataframe tbody tr th:only-of-type {\n",
       "        vertical-align: middle;\n",
       "    }\n",
       "\n",
       "    .dataframe tbody tr th {\n",
       "        vertical-align: top;\n",
       "    }\n",
       "\n",
       "    .dataframe thead th {\n",
       "        text-align: right;\n",
       "    }\n",
       "</style>\n",
       "<table border=\"1\" class=\"dataframe\">\n",
       "  <thead>\n",
       "    <tr style=\"text-align: right;\">\n",
       "      <th></th>\n",
       "      <th>image</th>\n",
       "      <th>species</th>\n",
       "      <th>individual_id</th>\n",
       "    </tr>\n",
       "  </thead>\n",
       "  <tbody>\n",
       "    <tr>\n",
       "      <th>26897</th>\n",
       "      <td>87d3934e3d0dae.jpg</td>\n",
       "      <td>melon_headed_whale</td>\n",
       "      <td>dca0dd2c9cb4</td>\n",
       "    </tr>\n",
       "    <tr>\n",
       "      <th>29124</th>\n",
       "      <td>92a56e28ad2253.jpg</td>\n",
       "      <td>sei_whale</td>\n",
       "      <td>b97689f6d99a</td>\n",
       "    </tr>\n",
       "    <tr>\n",
       "      <th>15338</th>\n",
       "      <td>4d75fd0b83fa2f.jpg</td>\n",
       "      <td>melon_headed_whale</td>\n",
       "      <td>8431f581c279</td>\n",
       "    </tr>\n",
       "    <tr>\n",
       "      <th>26447</th>\n",
       "      <td>8593606e441eb5.jpg</td>\n",
       "      <td>fin_whale</td>\n",
       "      <td>1309115eba71</td>\n",
       "    </tr>\n",
       "    <tr>\n",
       "      <th>33786</th>\n",
       "      <td>a9c87dc187d3fc.jpg</td>\n",
       "      <td>short_finned_pilot_whale</td>\n",
       "      <td>351ed4ae9123</td>\n",
       "    </tr>\n",
       "    <tr>\n",
       "      <th>...</th>\n",
       "      <td>...</td>\n",
       "      <td>...</td>\n",
       "      <td>...</td>\n",
       "    </tr>\n",
       "    <tr>\n",
       "      <th>45117</th>\n",
       "      <td>e2b2d268b0dda4.jpg</td>\n",
       "      <td>bottlenose_dolphin</td>\n",
       "      <td>045ca1b5a580</td>\n",
       "    </tr>\n",
       "    <tr>\n",
       "      <th>18106</th>\n",
       "      <td>5b4b4b080e8ca1.jpg</td>\n",
       "      <td>spinner_dolphin</td>\n",
       "      <td>001a09e48b2d</td>\n",
       "    </tr>\n",
       "    <tr>\n",
       "      <th>35923</th>\n",
       "      <td>b45d548065f1a1.jpg</td>\n",
       "      <td>melon_headed_whale</td>\n",
       "      <td>39dec92dc683</td>\n",
       "    </tr>\n",
       "    <tr>\n",
       "      <th>40359</th>\n",
       "      <td>cb0d98c607532e.jpg</td>\n",
       "      <td>spinner_dolphin</td>\n",
       "      <td>3195a36f716c</td>\n",
       "    </tr>\n",
       "    <tr>\n",
       "      <th>10123</th>\n",
       "      <td>32e45061dbbf24.jpg</td>\n",
       "      <td>blue_whale</td>\n",
       "      <td>b30ee45d43c5</td>\n",
       "    </tr>\n",
       "  </tbody>\n",
       "</table>\n",
       "<p>510 rows × 3 columns</p>\n",
       "</div>"
      ],
      "text/plain": [
       "                    image                   species individual_id\n",
       "26897  87d3934e3d0dae.jpg        melon_headed_whale  dca0dd2c9cb4\n",
       "29124  92a56e28ad2253.jpg                 sei_whale  b97689f6d99a\n",
       "15338  4d75fd0b83fa2f.jpg        melon_headed_whale  8431f581c279\n",
       "26447  8593606e441eb5.jpg                 fin_whale  1309115eba71\n",
       "33786  a9c87dc187d3fc.jpg  short_finned_pilot_whale  351ed4ae9123\n",
       "...                   ...                       ...           ...\n",
       "45117  e2b2d268b0dda4.jpg        bottlenose_dolphin  045ca1b5a580\n",
       "18106  5b4b4b080e8ca1.jpg           spinner_dolphin  001a09e48b2d\n",
       "35923  b45d548065f1a1.jpg        melon_headed_whale  39dec92dc683\n",
       "40359  cb0d98c607532e.jpg           spinner_dolphin  3195a36f716c\n",
       "10123  32e45061dbbf24.jpg                blue_whale  b30ee45d43c5\n",
       "\n",
       "[510 rows x 3 columns]"
      ]
     },
     "execution_count": 2,
     "metadata": {},
     "output_type": "execute_result"
    }
   ],
   "source": [
    "test_sample = pd.read_csv(files[0])\n",
    "train_sample = pd.read_csv(files[1])\n",
    "sample = train_sample.sample(frac=0.01)\n",
    "sample"
   ]
  },
  {
   "cell_type": "markdown",
   "id": "e3eff9aa",
   "metadata": {
    "papermill": {
     "duration": 0.007288,
     "end_time": "2022-02-28T00:05:13.023296",
     "exception": false,
     "start_time": "2022-02-28T00:05:13.016008",
     "status": "completed"
    },
    "tags": []
   },
   "source": [
    "On adapte les chemins pour utiliser facilement les images"
   ]
  },
  {
   "cell_type": "code",
   "execution_count": 3,
   "id": "8904867e",
   "metadata": {
    "execution": {
     "iopub.execute_input": "2022-02-28T00:05:13.042026Z",
     "iopub.status.busy": "2022-02-28T00:05:13.041302Z",
     "iopub.status.idle": "2022-02-28T00:05:13.241610Z",
     "shell.execute_reply": "2022-02-28T00:05:13.242172Z",
     "shell.execute_reply.started": "2022-02-27T21:56:56.551987Z"
    },
    "papermill": {
     "duration": 0.211388,
     "end_time": "2022-02-28T00:05:13.242363",
     "exception": false,
     "start_time": "2022-02-28T00:05:13.030975",
     "status": "completed"
    },
    "tags": []
   },
   "outputs": [
    {
     "name": "stdout",
     "output_type": "stream",
     "text": [
      "                    image                   species individual_id  \\\n",
      "26897  87d3934e3d0dae.jpg        melon_headed_whale  dca0dd2c9cb4   \n",
      "29124  92a56e28ad2253.jpg                 sei_whale  b97689f6d99a   \n",
      "15338  4d75fd0b83fa2f.jpg        melon_headed_whale  8431f581c279   \n",
      "26447  8593606e441eb5.jpg                 fin_whale  1309115eba71   \n",
      "33786  a9c87dc187d3fc.jpg  short_finned_pilot_whale  351ed4ae9123   \n",
      "\n",
      "                                                    path  \n",
      "26897  /kaggle/input/happy-whale-and-dolphin/train_im...  \n",
      "29124  /kaggle/input/happy-whale-and-dolphin/train_im...  \n",
      "15338  /kaggle/input/happy-whale-and-dolphin/train_im...  \n",
      "26447  /kaggle/input/happy-whale-and-dolphin/train_im...  \n",
      "33786  /kaggle/input/happy-whale-and-dolphin/train_im...  \n",
      "                image             species individual_id  \\\n",
      "0  00021adfb725ed.jpg  melon_headed_whale  cadddb1636b9   \n",
      "1  000562241d384d.jpg      humpback_whale  1a71fbb72250   \n",
      "2  0007c33415ce37.jpg  false_killer_whale  60008f293a2b   \n",
      "3  0007d9bca26a99.jpg  bottlenose_dolphin  4b00fe572063   \n",
      "4  00087baf5cef7a.jpg      humpback_whale  8e5253662392   \n",
      "\n",
      "                                                path  \n",
      "0  /kaggle/input/happy-whale-and-dolphin/train_im...  \n",
      "1  /kaggle/input/happy-whale-and-dolphin/train_im...  \n",
      "2  /kaggle/input/happy-whale-and-dolphin/train_im...  \n",
      "3  /kaggle/input/happy-whale-and-dolphin/train_im...  \n",
      "4  /kaggle/input/happy-whale-and-dolphin/train_im...  \n",
      "                image                                        predictions  \\\n",
      "0  000110707af0ba.jpg  37c7aba965a5 114207cab555 a6e325d8e924 19fbb96...   \n",
      "1  0006287ec424cb.jpg  37c7aba965a5 114207cab555 a6e325d8e924 19fbb96...   \n",
      "2  000809ecb2ccad.jpg  37c7aba965a5 114207cab555 a6e325d8e924 19fbb96...   \n",
      "3  00098d1376dab2.jpg  37c7aba965a5 114207cab555 a6e325d8e924 19fbb96...   \n",
      "4  000b8d89c738bd.jpg  37c7aba965a5 114207cab555 a6e325d8e924 19fbb96...   \n",
      "\n",
      "                                                path  \n",
      "0  /kaggle/input/happy-whale-and-dolphin/train_im...  \n",
      "1  /kaggle/input/happy-whale-and-dolphin/train_im...  \n",
      "2  /kaggle/input/happy-whale-and-dolphin/train_im...  \n",
      "3  /kaggle/input/happy-whale-and-dolphin/train_im...  \n",
      "4  /kaggle/input/happy-whale-and-dolphin/train_im...  \n"
     ]
    }
   ],
   "source": [
    "sample.to_csv('/kaggle/working/sample.csv')\n",
    "sample['path'] = [os.path.join('/kaggle/input/happy-whale-and-dolphin/train_images',img) for img in sample['image']]\n",
    "print(sample.head())\n",
    "train_sample['path'] = [os.path.join('/kaggle/input/happy-whale-and-dolphin/train_images',img) for img in train_sample['image']]\n",
    "print(train_sample.head())\n",
    "test_sample['path'] = [os.path.join('/kaggle/input/happy-whale-and-dolphin/train_images',img) for img in test_sample['image']]\n",
    "print(test_sample.head())"
   ]
  },
  {
   "cell_type": "code",
   "execution_count": 4,
   "id": "be2331e4",
   "metadata": {
    "execution": {
     "iopub.execute_input": "2022-02-28T00:05:13.261164Z",
     "iopub.status.busy": "2022-02-28T00:05:13.260460Z",
     "iopub.status.idle": "2022-02-28T00:06:31.122012Z",
     "shell.execute_reply": "2022-02-28T00:06:31.121253Z",
     "shell.execute_reply.started": "2022-02-27T21:56:56.73866Z"
    },
    "papermill": {
     "duration": 77.871997,
     "end_time": "2022-02-28T00:06:31.122203",
     "exception": false,
     "start_time": "2022-02-28T00:05:13.250206",
     "status": "completed"
    },
    "tags": []
   },
   "outputs": [],
   "source": [
    "for index in sample.index:\n",
    "    img = cv2.imread(sample['path'][index])\n",
    "    cv2.imwrite(\"/kaggle/working/\" + sample['image'][index], img)"
   ]
  },
  {
   "cell_type": "code",
   "execution_count": null,
   "id": "597af8e1",
   "metadata": {
    "papermill": {
     "duration": 0.007715,
     "end_time": "2022-02-28T00:06:31.138420",
     "exception": false,
     "start_time": "2022-02-28T00:06:31.130705",
     "status": "completed"
    },
    "tags": []
   },
   "outputs": [],
   "source": []
  }
 ],
 "metadata": {
  "kernelspec": {
   "display_name": "Python 3",
   "language": "python",
   "name": "python3"
  },
  "language_info": {
   "codemirror_mode": {
    "name": "ipython",
    "version": 3
   },
   "file_extension": ".py",
   "mimetype": "text/x-python",
   "name": "python",
   "nbconvert_exporter": "python",
   "pygments_lexer": "ipython3",
   "version": "3.7.12"
  },
  "papermill": {
   "default_parameters": {},
   "duration": 90.609695,
   "end_time": "2022-02-28T00:06:32.059744",
   "environment_variables": {},
   "exception": null,
   "input_path": "__notebook__.ipynb",
   "output_path": "__notebook__.ipynb",
   "parameters": {},
   "start_time": "2022-02-28T00:05:01.450049",
   "version": "2.3.3"
  }
 },
 "nbformat": 4,
 "nbformat_minor": 5
}
