{
 "cells": [
  {
   "cell_type": "code",
   "execution_count": 1,
   "metadata": {},
   "outputs": [
    {
     "name": "stderr",
     "output_type": "stream",
     "text": [
      "Using cache found in C:\\Users\\gaeta/.cache\\torch\\hub\\ultralytics_yolov5_master\n",
      "YOLOv5  2022-4-15 torch 1.11.0 CUDA:0 (NVIDIA GeForce RTX 3050 Ti Laptop GPU, 4096MiB)\n",
      "\n",
      "Fusing layers... \n",
      "YOLOv5s summary: 213 layers, 7225885 parameters, 0 gradients\n",
      "Adding AutoShape... \n"
     ]
    }
   ],
   "source": [
    "import cv2\n",
    "import torch\n",
    "import pandas as pd\n",
    "import numpy as np\n",
    "from PIL import Image\n",
    "import os\n",
    "from src.yolo import Yolo_Transformation"
   ]
  },
  {
   "cell_type": "code",
   "execution_count": 2,
   "metadata": {},
   "outputs": [],
   "source": [
    "from src.transformation import Transformation\n",
    "\n",
    "tr=Transformation(number_of_generation=6,image_size=(800,800))\n",
    "tr.transformation_list=[tr.rotate,tr.translate,tr.shear,tr.noise2,tr.contrast,tr.brightness,tr.sharpness,tr.color]\n",
    "image=cv2.imread(\"data/five_class/0d986004481c0f.jpg\")\n",
    "list=tr.apply_transformations(image=image)\n",
    "count=0\n",
    "for e in list:\n",
    "    cv2.imwrite(\"../augment/image\"+str(count)+\".jpg\",e)\n",
    "    count+=1"
   ]
  },
  {
   "cell_type": "code",
   "execution_count": 3,
   "metadata": {},
   "outputs": [
    {
     "name": "stdout",
     "output_type": "stream",
     "text": [
      "   Unnamed: 0               image         species individual_id\n",
      "0        4729  17a0ebeb945f26.jpg   dusky_dolphin  680c6d9b28d7\n",
      "1       28015  8d1d6f62689ecf.jpg  humpback_whale  387f17f0676e\n",
      "2        7774  26fab94d914b9a.jpg      blue_whale  b2552059f6db\n",
      "3         515  02c06642e316e9.jpg          beluga  5ac053677ed1\n",
      "4       44955  e1e464415943e4.jpg      blue_whale  d13bf014ff2d\n"
     ]
    }
   ],
   "source": [
    "\n",
    "df=pd.read_csv(\"../sample.csv\")\n",
    "print(df.head())\n"
   ]
  },
  {
   "cell_type": "code",
   "execution_count": 4,
   "metadata": {},
   "outputs": [],
   "source": [
    "tab=np.array(os.listdir(\"../echantillon/\"))[170:210]\n",
    "yolo=Yolo_Transformation(\"../echantillon/\",\"../croped_data/\",tab)\n",
    "yolo_results=yolo.use_yolo()\n",
    "#print(yolo_results.pandas().xyxy[0])\n"
   ]
  },
  {
   "cell_type": "code",
   "execution_count": 5,
   "metadata": {},
   "outputs": [
    {
     "name": "stdout",
     "output_type": "stream",
     "text": [
      "yolo croped sumary:\n",
      "number of crop maked by single prediction:  17\n",
      "number of image ignore because of no prediction:  22\n",
      "number of image ignore because of ambigous prediction:  1\n",
      "dolphin can be predict as:\n",
      "  prediction ponderation          confidence\n",
      "0       bear           5  2.2886180877685547\n",
      "1       bird           5  1.7879080474376678\n",
      "2  surfboard           4   1.330518513917923\n",
      "3       cake           1  0.2604745626449585\n",
      "4   elephant           1  0.5278445482254028\n",
      "5     person           1  0.5348538756370544\n",
      "ambigous prediction are:\n",
      "[['elephant', 'bird']]\n"
     ]
    }
   ],
   "source": [
    "yolo.crop_image_from_yolo(yolo_results)\n",
    "analyses=yolo.analyse_yolo_result(yolo_results)\n",
    "yolo.display_yolo_analyse(analyses)"
   ]
  },
  {
   "cell_type": "code",
   "execution_count": null,
   "metadata": {},
   "outputs": [],
   "source": []
  },
  {
   "cell_type": "code",
   "execution_count": null,
   "metadata": {},
   "outputs": [],
   "source": []
  }
 ],
 "metadata": {
  "interpreter": {
   "hash": "4cb8053378024b39b4493477157ce5dbe6e4cb2922e78077591bbe94436012d2"
  },
  "kernelspec": {
   "display_name": "Python 3.9.12 ('forage')",
   "language": "python",
   "name": "python3"
  },
  "language_info": {
   "codemirror_mode": {
    "name": "ipython",
    "version": 3
   },
   "file_extension": ".py",
   "mimetype": "text/x-python",
   "name": "python",
   "nbconvert_exporter": "python",
   "pygments_lexer": "ipython3",
   "version": "3.9.12"
  },
  "orig_nbformat": 4
 },
 "nbformat": 4,
 "nbformat_minor": 2
}
