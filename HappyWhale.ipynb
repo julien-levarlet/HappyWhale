{
  "cells": [
    {
      "cell_type": "code",
      "execution_count": 31,
      "metadata": {
        "colab": {
          "base_uri": "https://localhost:8080/"
        },
        "id": "wGlyYvluyNcx",
        "outputId": "dcb95706-a1d4-418d-ae1a-3b294fe0ac01"
      },
      "outputs": [
        {
          "name": "stdout",
          "output_type": "stream",
          "text": [
            "Requirement already satisfied: asposestorage in /home/julien/.venv_ift780/lib/python3.9/site-packages (from -r requirements.txt (line 1)) (1.0.2)\n",
            "Requirement already satisfied: imutils in /home/julien/.venv_ift780/lib/python3.9/site-packages (from -r requirements.txt (line 2)) (0.5.4)\n",
            "Requirement already satisfied: matplotlib in /home/julien/.venv_ift780/lib/python3.9/site-packages (from -r requirements.txt (line 3)) (3.5.1)\n",
            "Requirement already satisfied: numpy in /home/julien/.venv_ift780/lib/python3.9/site-packages (from -r requirements.txt (line 4)) (1.22.2)\n",
            "Requirement already satisfied: opencv_python in /home/julien/.venv_ift780/lib/python3.9/site-packages (from -r requirements.txt (line 5)) (4.5.5.64)\n",
            "Requirement already satisfied: pandas in /home/julien/.venv_ift780/lib/python3.9/site-packages (from -r requirements.txt (line 6)) (1.4.2)\n",
            "Requirement already satisfied: Pillow in /home/julien/.venv_ift780/lib/python3.9/site-packages (from -r requirements.txt (line 7)) (9.0.0)\n",
            "Requirement already satisfied: scikit_image in /home/julien/.venv_ift780/lib/python3.9/site-packages (from -r requirements.txt (line 8)) (0.19.1)\n",
            "Requirement already satisfied: scikit_learn in /home/julien/.venv_ift780/lib/python3.9/site-packages (from -r requirements.txt (line 9)) (1.0.2)\n",
            "Requirement already satisfied: torch in /home/julien/.venv_ift780/lib/python3.9/site-packages (from -r requirements.txt (line 11)) (1.10.2+cu113)\n",
            "Requirement already satisfied: torchvision in /home/julien/.venv_ift780/lib/python3.9/site-packages (from -r requirements.txt (line 12)) (0.11.3+cu113)\n",
            "Requirement already satisfied: tqdm in /home/julien/.venv_ift780/lib/python3.9/site-packages (from -r requirements.txt (line 13)) (4.62.3)\n",
            "Requirement already satisfied: timm in /home/julien/.venv_ift780/lib/python3.9/site-packages (from -r requirements.txt (line 14)) (0.5.4)\n",
            "Requirement already satisfied: packaging>=20.0 in /home/julien/.venv_ift780/lib/python3.9/site-packages (from matplotlib->-r requirements.txt (line 3)) (21.3)\n",
            "Requirement already satisfied: kiwisolver>=1.0.1 in /home/julien/.venv_ift780/lib/python3.9/site-packages (from matplotlib->-r requirements.txt (line 3)) (1.3.2)\n",
            "Requirement already satisfied: fonttools>=4.22.0 in /home/julien/.venv_ift780/lib/python3.9/site-packages (from matplotlib->-r requirements.txt (line 3)) (4.28.5)\n",
            "Requirement already satisfied: cycler>=0.10 in /home/julien/.venv_ift780/lib/python3.9/site-packages (from matplotlib->-r requirements.txt (line 3)) (0.11.0)\n",
            "Requirement already satisfied: pyparsing>=2.2.1 in /home/julien/.venv_ift780/lib/python3.9/site-packages (from matplotlib->-r requirements.txt (line 3)) (3.0.6)\n",
            "Requirement already satisfied: python-dateutil>=2.7 in /home/julien/.venv_ift780/lib/python3.9/site-packages (from matplotlib->-r requirements.txt (line 3)) (2.8.2)\n",
            "Requirement already satisfied: pytz>=2020.1 in /home/julien/.venv_ift780/lib/python3.9/site-packages (from pandas->-r requirements.txt (line 6)) (2022.1)\n",
            "Requirement already satisfied: imageio>=2.4.1 in /home/julien/.venv_ift780/lib/python3.9/site-packages (from scikit_image->-r requirements.txt (line 8)) (2.13.5)\n",
            "Requirement already satisfied: networkx>=2.2 in /home/julien/.venv_ift780/lib/python3.9/site-packages (from scikit_image->-r requirements.txt (line 8)) (2.6.3)\n",
            "Requirement already satisfied: PyWavelets>=1.1.1 in /home/julien/.venv_ift780/lib/python3.9/site-packages (from scikit_image->-r requirements.txt (line 8)) (1.2.0)\n",
            "Requirement already satisfied: tifffile>=2019.7.26 in /home/julien/.venv_ift780/lib/python3.9/site-packages (from scikit_image->-r requirements.txt (line 8)) (2021.11.2)\n",
            "Requirement already satisfied: scipy>=1.4.1 in /home/julien/.venv_ift780/lib/python3.9/site-packages (from scikit_image->-r requirements.txt (line 8)) (1.7.3)\n",
            "Requirement already satisfied: joblib>=0.11 in /home/julien/.venv_ift780/lib/python3.9/site-packages (from scikit_learn->-r requirements.txt (line 9)) (1.1.0)\n",
            "Requirement already satisfied: threadpoolctl>=2.0.0 in /home/julien/.venv_ift780/lib/python3.9/site-packages (from scikit_learn->-r requirements.txt (line 9)) (3.1.0)\n",
            "Requirement already satisfied: typing-extensions in /home/julien/.venv_ift780/lib/python3.9/site-packages (from torch->-r requirements.txt (line 11)) (4.0.1)\n",
            "Requirement already satisfied: six>=1.5 in /home/julien/.venv_ift780/lib/python3.9/site-packages (from python-dateutil>=2.7->matplotlib->-r requirements.txt (line 3)) (1.16.0)\n",
            "Note: you may need to restart the kernel to use updated packages.\n",
            "The autoreload extension is already loaded. To reload it, use:\n",
            "  %reload_ext autoreload\n"
          ]
        }
      ],
      "source": [
        "try:\n",
        "  from google.colab import drive\n",
        "  drive.mount('/content/drive')\n",
        "  !mkdir src\n",
        "  !cp -r drive/MyDrive/IFT780/HappyWhale/src/* src/\n",
        "  !mkdir data\n",
        "  !cp -r drive/MyDrive/IFT780/HappyWhale/data/* data/\n",
        "  !cp drive/MyDrive/IFT780/HappyWhale/requirements.txt requirements.txt\n",
        "  IN_COLAB = True\n",
        "except:\n",
        "  IN_COLAB = False\n",
        "%pip install -r requirements.txt\n",
        "\n",
        "# Pour automatiquement recharger les modules externes\n",
        "# voir http://stackoverflow.com/questions/1907993/autoreload-of-modules-in-ipython\n",
        "%load_ext autoreload\n",
        "%autoreload 2"
      ]
    },
    {
      "cell_type": "markdown",
      "metadata": {
        "id": "XTgcMFrryNc7"
      },
      "source": [
        "# HappyWhale Challenge - Team WhalePlayed\n",
        "\n",
        "This notebook presents the work done by Gaétan Rey, Julien Levarlet and Timothée Wright, as part of the challenge https://www.kaggle.com/competitions/happy-whale-and-dolphin/overview ."
      ]
    },
    {
      "cell_type": "markdown",
      "metadata": {
        "id": "FBEpvY25yNc-"
      },
      "source": [
        "Imports :"
      ]
    },
    {
      "cell_type": "code",
      "execution_count": 32,
      "metadata": {
        "id": "IF1wvX3dyNc_"
      },
      "outputs": [],
      "source": [
        "import torch.nn as nn\n",
        "import torch\n",
        "from src.ModelTrainTestManager import ModelTrainTestManager, optimizer_setup\n",
        "from src.DataManager import DataManager\n",
        "from src.Models.ResNet import ResNet\n",
        "from src.Models.HappyWhaleModel import HappyWhaleModel\n",
        "\n",
        "torch.cuda.empty_cache()"
      ]
    },
    {
      "cell_type": "markdown",
      "metadata": {
        "id": "HPLcrHV6yNdA"
      },
      "source": [
        "Parameters for the data :"
      ]
    },
    {
      "cell_type": "code",
      "execution_count": 33,
      "metadata": {
        "id": "NHnVDFYkyNdB"
      },
      "outputs": [],
      "source": [
        "data_csv = \"data/five.csv\"\n",
        "dataFolderPath = \"data/five_class\"\n",
        "test_csv = \"data/common_train.csv\""
      ]
    },
    {
      "cell_type": "markdown",
      "metadata": {
        "id": "HsWIuBp7yNdC"
      },
      "source": [
        "Parameters for the training :"
      ]
    },
    {
      "cell_type": "code",
      "execution_count": 34,
      "metadata": {
        "id": "oE-WSe41yNdD"
      },
      "outputs": [
        {
          "name": "stdout",
          "output_type": "stream",
          "text": [
            "                image  individual_id\n",
            "0  001001f099519f.jpg              1\n",
            "1  0024057bbc89a4.jpg              0\n",
            "2  0046ceef89b3fc.jpg              2\n",
            "3  005e53b1b6aada.jpg              2\n",
            "4  0106d276033b78.jpg              2\n",
            "Dataset size : 730\n",
            "Size of validation set : 117\n",
            "Size of test set : 146\n",
            "Size of train set : 467\n"
          ]
        }
      ],
      "source": [
        "batch_size = 5\n",
        "learning_rate = 0.01\n",
        "optimizer_factory = optimizer_setup(torch.optim.Adam, lr=learning_rate)\n",
        "\n",
        "test_percentage = 0.2\n",
        "val_percentage = 0.2\n",
        "\n",
        "exp_name = \"HappyWhale\"\n",
        "\n",
        "\n",
        "data_manager = DataManager(data_csv, dataFolderPath, batch_size,\n",
        "                test_percentage, val_percentage, verbose=True)"
      ]
    },
    {
      "cell_type": "markdown",
      "metadata": {
        "id": "VvLH9ra-yNdF"
      },
      "source": [
        "Parameters for the model :"
      ]
    },
    {
      "cell_type": "code",
      "execution_count": 35,
      "metadata": {
        "colab": {
          "base_uri": "https://localhost:8080/"
        },
        "id": "cHz9BZWLyNdG",
        "outputId": "bc7de30f-e45d-4685-a825-5014a2511674"
      },
      "outputs": [],
      "source": [
        "in_channels=3\n",
        "depth=2\n",
        "option=\"small\"\n",
        "size=256\n",
        "num_class = data_manager.get_number_of_classes()\n",
        "\n",
        "# ArcFace Hyperparameters\n",
        "arcFace_config = {\n",
        "    \"s\": 30.0,  # scale (The scale parameter changes the shape of the logits. The higher the scale, the more peaky the logits vector becomes.)\n",
        "    \"m\": 0.50,  # margin (margin results in a bigger separation of classes in your training set)\n",
        "    \"ls_eps\": 0.0,\n",
        "    \"easy_margin\": False\n",
        "}\n",
        "\n",
        "model = HappyWhaleModel(\"tf_efficientnet_b0_ns\", 512, num_class=num_class, arcface_config=arcFace_config)\n",
        "#model = ResNet(num_class, in_channels, depth, option, size)"
      ]
    },
    {
      "cell_type": "code",
      "execution_count": 36,
      "metadata": {
        "colab": {
          "base_uri": "https://localhost:8080/"
        },
        "id": "wt1byr2QyNdH",
        "outputId": "b50789a3-f7a5-4234-ebaf-866dda98e76f"
      },
      "outputs": [],
      "source": [
        "model_trainer = ModelTrainTestManager(model=model,\n",
        "                                        data_manager = data_manager,\n",
        "                                        loss_fn=nn.CrossEntropyLoss(),\n",
        "                                        optimizer_factory=optimizer_factory,\n",
        "                                        exp_name = exp_name ,\n",
        "                                        learning_rate=learning_rate,\n",
        "                                        use_cuda=True)"
      ]
    },
    {
      "cell_type": "code",
      "execution_count": 37,
      "metadata": {
        "colab": {
          "base_uri": "https://localhost:8080/",
          "height": 660
        },
        "id": "i6yvatE5yNdJ",
        "outputId": "89b0325b-2d9e-4dfd-aec3-c12e4805bfb4"
      },
      "outputs": [
        {
          "name": "stdout",
          "output_type": "stream",
          "text": [
            "Epoch: 1 of 1\n"
          ]
        },
        {
          "name": "stderr",
          "output_type": "stream",
          "text": [
            "100%|██████████| 94/94 [00:36<00:00,  2.58it/s, loss=0.108]\n"
          ]
        },
        {
          "name": "stdout",
          "output_type": "stream",
          "text": [
            "Validation loss 0.003\n",
            "Finished training.\n"
          ]
        }
      ],
      "source": [
        "epoch=1\n",
        "model_trainer.train(epoch)"
      ]
    },
    {
      "cell_type": "code",
      "execution_count": 39,
      "metadata": {},
      "outputs": [
        {
          "name": "stdout",
          "output_type": "stream",
          "text": [
            "Parameters : lr 0.1 , s 20 , m 0.4\n"
          ]
        },
        {
          "name": "stderr",
          "output_type": "stream",
          "text": [
            "100%|██████████| 94/94 [00:43<00:00,  2.18it/s, loss=0.099]\n"
          ]
        },
        {
          "name": "stdout",
          "output_type": "stream",
          "text": [
            "Finished training.\n",
            "Validation loss : 0.0022148090502014384 , validation accuracy : 1.0\n",
            "Parameters : lr 0.01 , s 20 , m 0.4\n"
          ]
        },
        {
          "name": "stderr",
          "output_type": "stream",
          "text": [
            "100%|██████████| 94/94 [00:45<00:00,  2.05it/s, loss=0.099]\n"
          ]
        },
        {
          "name": "stdout",
          "output_type": "stream",
          "text": [
            "Finished training.\n",
            "Validation loss : 0.0025346983845035234 , validation accuracy : 1.0\n",
            "Parameters : lr 0.001 , s 20 , m 0.4\n"
          ]
        },
        {
          "name": "stderr",
          "output_type": "stream",
          "text": [
            "100%|██████████| 94/94 [00:39<00:00,  2.36it/s, loss=0.103]\n"
          ]
        },
        {
          "name": "stdout",
          "output_type": "stream",
          "text": [
            "Finished training.\n",
            "Validation loss : 0.0031832763634156436 , validation accuracy : 1.0\n",
            "{'learning_rate': 0.001, 'arcface_s': 20, 'arcface_m': 0.4}\n"
          ]
        }
      ],
      "source": [
        "from src.HyperparameterSearch import HyperparameterSearchManager\n",
        "\n",
        "params = {\n",
        "    \"learning_rate\": [0.1,0.01,0.001],\n",
        "    \"arcface_s\": [20],\n",
        "    \"arcface_m\": [0.4],\n",
        "}\n",
        "\n",
        "hs = HyperparameterSearchManager(HappyWhaleModel,\n",
        "                params=params,\n",
        "                data_manager = data_manager,\n",
        "                loss_fn=nn.CrossEntropyLoss(),\n",
        "                optimizer_factory=optimizer_factory,\n",
        "                exp_name=\"hyperparameter_search\",\n",
        "                num_epoch=1,)\n",
        "\n",
        "print(hs.get_best_param())"
      ]
    },
    {
      "cell_type": "code",
      "execution_count": 40,
      "metadata": {},
      "outputs": [
        {
          "name": "stdout",
          "output_type": "stream",
          "text": [
            "HappyWhaleModel(\n",
            "  (model): EfficientNet(\n",
            "    (conv_stem): Conv2dSame(3, 32, kernel_size=(3, 3), stride=(2, 2), bias=False)\n",
            "    (bn1): BatchNorm2d(32, eps=0.001, momentum=0.1, affine=True, track_running_stats=True)\n",
            "    (act1): SiLU(inplace=True)\n",
            "    (blocks): Sequential(\n",
            "      (0): Sequential(\n",
            "        (0): DepthwiseSeparableConv(\n",
            "          (conv_dw): Conv2d(32, 32, kernel_size=(3, 3), stride=(1, 1), padding=(1, 1), groups=32, bias=False)\n",
            "          (bn1): BatchNorm2d(32, eps=0.001, momentum=0.1, affine=True, track_running_stats=True)\n",
            "          (act1): SiLU(inplace=True)\n",
            "          (se): SqueezeExcite(\n",
            "            (conv_reduce): Conv2d(32, 8, kernel_size=(1, 1), stride=(1, 1))\n",
            "            (act1): SiLU(inplace=True)\n",
            "            (conv_expand): Conv2d(8, 32, kernel_size=(1, 1), stride=(1, 1))\n",
            "            (gate): Sigmoid()\n",
            "          )\n",
            "          (conv_pw): Conv2d(32, 16, kernel_size=(1, 1), stride=(1, 1), bias=False)\n",
            "          (bn2): BatchNorm2d(16, eps=0.001, momentum=0.1, affine=True, track_running_stats=True)\n",
            "          (act2): Identity()\n",
            "        )\n",
            "      )\n",
            "      (1): Sequential(\n",
            "        (0): InvertedResidual(\n",
            "          (conv_pw): Conv2d(16, 96, kernel_size=(1, 1), stride=(1, 1), bias=False)\n",
            "          (bn1): BatchNorm2d(96, eps=0.001, momentum=0.1, affine=True, track_running_stats=True)\n",
            "          (act1): SiLU(inplace=True)\n",
            "          (conv_dw): Conv2dSame(96, 96, kernel_size=(3, 3), stride=(2, 2), groups=96, bias=False)\n",
            "          (bn2): BatchNorm2d(96, eps=0.001, momentum=0.1, affine=True, track_running_stats=True)\n",
            "          (act2): SiLU(inplace=True)\n",
            "          (se): SqueezeExcite(\n",
            "            (conv_reduce): Conv2d(96, 4, kernel_size=(1, 1), stride=(1, 1))\n",
            "            (act1): SiLU(inplace=True)\n",
            "            (conv_expand): Conv2d(4, 96, kernel_size=(1, 1), stride=(1, 1))\n",
            "            (gate): Sigmoid()\n",
            "          )\n",
            "          (conv_pwl): Conv2d(96, 24, kernel_size=(1, 1), stride=(1, 1), bias=False)\n",
            "          (bn3): BatchNorm2d(24, eps=0.001, momentum=0.1, affine=True, track_running_stats=True)\n",
            "        )\n",
            "        (1): InvertedResidual(\n",
            "          (conv_pw): Conv2d(24, 144, kernel_size=(1, 1), stride=(1, 1), bias=False)\n",
            "          (bn1): BatchNorm2d(144, eps=0.001, momentum=0.1, affine=True, track_running_stats=True)\n",
            "          (act1): SiLU(inplace=True)\n",
            "          (conv_dw): Conv2d(144, 144, kernel_size=(3, 3), stride=(1, 1), padding=(1, 1), groups=144, bias=False)\n",
            "          (bn2): BatchNorm2d(144, eps=0.001, momentum=0.1, affine=True, track_running_stats=True)\n",
            "          (act2): SiLU(inplace=True)\n",
            "          (se): SqueezeExcite(\n",
            "            (conv_reduce): Conv2d(144, 6, kernel_size=(1, 1), stride=(1, 1))\n",
            "            (act1): SiLU(inplace=True)\n",
            "            (conv_expand): Conv2d(6, 144, kernel_size=(1, 1), stride=(1, 1))\n",
            "            (gate): Sigmoid()\n",
            "          )\n",
            "          (conv_pwl): Conv2d(144, 24, kernel_size=(1, 1), stride=(1, 1), bias=False)\n",
            "          (bn3): BatchNorm2d(24, eps=0.001, momentum=0.1, affine=True, track_running_stats=True)\n",
            "        )\n",
            "      )\n",
            "      (2): Sequential(\n",
            "        (0): InvertedResidual(\n",
            "          (conv_pw): Conv2d(24, 144, kernel_size=(1, 1), stride=(1, 1), bias=False)\n",
            "          (bn1): BatchNorm2d(144, eps=0.001, momentum=0.1, affine=True, track_running_stats=True)\n",
            "          (act1): SiLU(inplace=True)\n",
            "          (conv_dw): Conv2dSame(144, 144, kernel_size=(5, 5), stride=(2, 2), groups=144, bias=False)\n",
            "          (bn2): BatchNorm2d(144, eps=0.001, momentum=0.1, affine=True, track_running_stats=True)\n",
            "          (act2): SiLU(inplace=True)\n",
            "          (se): SqueezeExcite(\n",
            "            (conv_reduce): Conv2d(144, 6, kernel_size=(1, 1), stride=(1, 1))\n",
            "            (act1): SiLU(inplace=True)\n",
            "            (conv_expand): Conv2d(6, 144, kernel_size=(1, 1), stride=(1, 1))\n",
            "            (gate): Sigmoid()\n",
            "          )\n",
            "          (conv_pwl): Conv2d(144, 40, kernel_size=(1, 1), stride=(1, 1), bias=False)\n",
            "          (bn3): BatchNorm2d(40, eps=0.001, momentum=0.1, affine=True, track_running_stats=True)\n",
            "        )\n",
            "        (1): InvertedResidual(\n",
            "          (conv_pw): Conv2d(40, 240, kernel_size=(1, 1), stride=(1, 1), bias=False)\n",
            "          (bn1): BatchNorm2d(240, eps=0.001, momentum=0.1, affine=True, track_running_stats=True)\n",
            "          (act1): SiLU(inplace=True)\n",
            "          (conv_dw): Conv2d(240, 240, kernel_size=(5, 5), stride=(1, 1), padding=(2, 2), groups=240, bias=False)\n",
            "          (bn2): BatchNorm2d(240, eps=0.001, momentum=0.1, affine=True, track_running_stats=True)\n",
            "          (act2): SiLU(inplace=True)\n",
            "          (se): SqueezeExcite(\n",
            "            (conv_reduce): Conv2d(240, 10, kernel_size=(1, 1), stride=(1, 1))\n",
            "            (act1): SiLU(inplace=True)\n",
            "            (conv_expand): Conv2d(10, 240, kernel_size=(1, 1), stride=(1, 1))\n",
            "            (gate): Sigmoid()\n",
            "          )\n",
            "          (conv_pwl): Conv2d(240, 40, kernel_size=(1, 1), stride=(1, 1), bias=False)\n",
            "          (bn3): BatchNorm2d(40, eps=0.001, momentum=0.1, affine=True, track_running_stats=True)\n",
            "        )\n",
            "      )\n",
            "      (3): Sequential(\n",
            "        (0): InvertedResidual(\n",
            "          (conv_pw): Conv2d(40, 240, kernel_size=(1, 1), stride=(1, 1), bias=False)\n",
            "          (bn1): BatchNorm2d(240, eps=0.001, momentum=0.1, affine=True, track_running_stats=True)\n",
            "          (act1): SiLU(inplace=True)\n",
            "          (conv_dw): Conv2dSame(240, 240, kernel_size=(3, 3), stride=(2, 2), groups=240, bias=False)\n",
            "          (bn2): BatchNorm2d(240, eps=0.001, momentum=0.1, affine=True, track_running_stats=True)\n",
            "          (act2): SiLU(inplace=True)\n",
            "          (se): SqueezeExcite(\n",
            "            (conv_reduce): Conv2d(240, 10, kernel_size=(1, 1), stride=(1, 1))\n",
            "            (act1): SiLU(inplace=True)\n",
            "            (conv_expand): Conv2d(10, 240, kernel_size=(1, 1), stride=(1, 1))\n",
            "            (gate): Sigmoid()\n",
            "          )\n",
            "          (conv_pwl): Conv2d(240, 80, kernel_size=(1, 1), stride=(1, 1), bias=False)\n",
            "          (bn3): BatchNorm2d(80, eps=0.001, momentum=0.1, affine=True, track_running_stats=True)\n",
            "        )\n",
            "        (1): InvertedResidual(\n",
            "          (conv_pw): Conv2d(80, 480, kernel_size=(1, 1), stride=(1, 1), bias=False)\n",
            "          (bn1): BatchNorm2d(480, eps=0.001, momentum=0.1, affine=True, track_running_stats=True)\n",
            "          (act1): SiLU(inplace=True)\n",
            "          (conv_dw): Conv2d(480, 480, kernel_size=(3, 3), stride=(1, 1), padding=(1, 1), groups=480, bias=False)\n",
            "          (bn2): BatchNorm2d(480, eps=0.001, momentum=0.1, affine=True, track_running_stats=True)\n",
            "          (act2): SiLU(inplace=True)\n",
            "          (se): SqueezeExcite(\n",
            "            (conv_reduce): Conv2d(480, 20, kernel_size=(1, 1), stride=(1, 1))\n",
            "            (act1): SiLU(inplace=True)\n",
            "            (conv_expand): Conv2d(20, 480, kernel_size=(1, 1), stride=(1, 1))\n",
            "            (gate): Sigmoid()\n",
            "          )\n",
            "          (conv_pwl): Conv2d(480, 80, kernel_size=(1, 1), stride=(1, 1), bias=False)\n",
            "          (bn3): BatchNorm2d(80, eps=0.001, momentum=0.1, affine=True, track_running_stats=True)\n",
            "        )\n",
            "        (2): InvertedResidual(\n",
            "          (conv_pw): Conv2d(80, 480, kernel_size=(1, 1), stride=(1, 1), bias=False)\n",
            "          (bn1): BatchNorm2d(480, eps=0.001, momentum=0.1, affine=True, track_running_stats=True)\n",
            "          (act1): SiLU(inplace=True)\n",
            "          (conv_dw): Conv2d(480, 480, kernel_size=(3, 3), stride=(1, 1), padding=(1, 1), groups=480, bias=False)\n",
            "          (bn2): BatchNorm2d(480, eps=0.001, momentum=0.1, affine=True, track_running_stats=True)\n",
            "          (act2): SiLU(inplace=True)\n",
            "          (se): SqueezeExcite(\n",
            "            (conv_reduce): Conv2d(480, 20, kernel_size=(1, 1), stride=(1, 1))\n",
            "            (act1): SiLU(inplace=True)\n",
            "            (conv_expand): Conv2d(20, 480, kernel_size=(1, 1), stride=(1, 1))\n",
            "            (gate): Sigmoid()\n",
            "          )\n",
            "          (conv_pwl): Conv2d(480, 80, kernel_size=(1, 1), stride=(1, 1), bias=False)\n",
            "          (bn3): BatchNorm2d(80, eps=0.001, momentum=0.1, affine=True, track_running_stats=True)\n",
            "        )\n",
            "      )\n",
            "      (4): Sequential(\n",
            "        (0): InvertedResidual(\n",
            "          (conv_pw): Conv2d(80, 480, kernel_size=(1, 1), stride=(1, 1), bias=False)\n",
            "          (bn1): BatchNorm2d(480, eps=0.001, momentum=0.1, affine=True, track_running_stats=True)\n",
            "          (act1): SiLU(inplace=True)\n",
            "          (conv_dw): Conv2d(480, 480, kernel_size=(5, 5), stride=(1, 1), padding=(2, 2), groups=480, bias=False)\n",
            "          (bn2): BatchNorm2d(480, eps=0.001, momentum=0.1, affine=True, track_running_stats=True)\n",
            "          (act2): SiLU(inplace=True)\n",
            "          (se): SqueezeExcite(\n",
            "            (conv_reduce): Conv2d(480, 20, kernel_size=(1, 1), stride=(1, 1))\n",
            "            (act1): SiLU(inplace=True)\n",
            "            (conv_expand): Conv2d(20, 480, kernel_size=(1, 1), stride=(1, 1))\n",
            "            (gate): Sigmoid()\n",
            "          )\n",
            "          (conv_pwl): Conv2d(480, 112, kernel_size=(1, 1), stride=(1, 1), bias=False)\n",
            "          (bn3): BatchNorm2d(112, eps=0.001, momentum=0.1, affine=True, track_running_stats=True)\n",
            "        )\n",
            "        (1): InvertedResidual(\n",
            "          (conv_pw): Conv2d(112, 672, kernel_size=(1, 1), stride=(1, 1), bias=False)\n",
            "          (bn1): BatchNorm2d(672, eps=0.001, momentum=0.1, affine=True, track_running_stats=True)\n",
            "          (act1): SiLU(inplace=True)\n",
            "          (conv_dw): Conv2d(672, 672, kernel_size=(5, 5), stride=(1, 1), padding=(2, 2), groups=672, bias=False)\n",
            "          (bn2): BatchNorm2d(672, eps=0.001, momentum=0.1, affine=True, track_running_stats=True)\n",
            "          (act2): SiLU(inplace=True)\n",
            "          (se): SqueezeExcite(\n",
            "            (conv_reduce): Conv2d(672, 28, kernel_size=(1, 1), stride=(1, 1))\n",
            "            (act1): SiLU(inplace=True)\n",
            "            (conv_expand): Conv2d(28, 672, kernel_size=(1, 1), stride=(1, 1))\n",
            "            (gate): Sigmoid()\n",
            "          )\n",
            "          (conv_pwl): Conv2d(672, 112, kernel_size=(1, 1), stride=(1, 1), bias=False)\n",
            "          (bn3): BatchNorm2d(112, eps=0.001, momentum=0.1, affine=True, track_running_stats=True)\n",
            "        )\n",
            "        (2): InvertedResidual(\n",
            "          (conv_pw): Conv2d(112, 672, kernel_size=(1, 1), stride=(1, 1), bias=False)\n",
            "          (bn1): BatchNorm2d(672, eps=0.001, momentum=0.1, affine=True, track_running_stats=True)\n",
            "          (act1): SiLU(inplace=True)\n",
            "          (conv_dw): Conv2d(672, 672, kernel_size=(5, 5), stride=(1, 1), padding=(2, 2), groups=672, bias=False)\n",
            "          (bn2): BatchNorm2d(672, eps=0.001, momentum=0.1, affine=True, track_running_stats=True)\n",
            "          (act2): SiLU(inplace=True)\n",
            "          (se): SqueezeExcite(\n",
            "            (conv_reduce): Conv2d(672, 28, kernel_size=(1, 1), stride=(1, 1))\n",
            "            (act1): SiLU(inplace=True)\n",
            "            (conv_expand): Conv2d(28, 672, kernel_size=(1, 1), stride=(1, 1))\n",
            "            (gate): Sigmoid()\n",
            "          )\n",
            "          (conv_pwl): Conv2d(672, 112, kernel_size=(1, 1), stride=(1, 1), bias=False)\n",
            "          (bn3): BatchNorm2d(112, eps=0.001, momentum=0.1, affine=True, track_running_stats=True)\n",
            "        )\n",
            "      )\n",
            "      (5): Sequential(\n",
            "        (0): InvertedResidual(\n",
            "          (conv_pw): Conv2d(112, 672, kernel_size=(1, 1), stride=(1, 1), bias=False)\n",
            "          (bn1): BatchNorm2d(672, eps=0.001, momentum=0.1, affine=True, track_running_stats=True)\n",
            "          (act1): SiLU(inplace=True)\n",
            "          (conv_dw): Conv2dSame(672, 672, kernel_size=(5, 5), stride=(2, 2), groups=672, bias=False)\n",
            "          (bn2): BatchNorm2d(672, eps=0.001, momentum=0.1, affine=True, track_running_stats=True)\n",
            "          (act2): SiLU(inplace=True)\n",
            "          (se): SqueezeExcite(\n",
            "            (conv_reduce): Conv2d(672, 28, kernel_size=(1, 1), stride=(1, 1))\n",
            "            (act1): SiLU(inplace=True)\n",
            "            (conv_expand): Conv2d(28, 672, kernel_size=(1, 1), stride=(1, 1))\n",
            "            (gate): Sigmoid()\n",
            "          )\n",
            "          (conv_pwl): Conv2d(672, 192, kernel_size=(1, 1), stride=(1, 1), bias=False)\n",
            "          (bn3): BatchNorm2d(192, eps=0.001, momentum=0.1, affine=True, track_running_stats=True)\n",
            "        )\n",
            "        (1): InvertedResidual(\n",
            "          (conv_pw): Conv2d(192, 1152, kernel_size=(1, 1), stride=(1, 1), bias=False)\n",
            "          (bn1): BatchNorm2d(1152, eps=0.001, momentum=0.1, affine=True, track_running_stats=True)\n",
            "          (act1): SiLU(inplace=True)\n",
            "          (conv_dw): Conv2d(1152, 1152, kernel_size=(5, 5), stride=(1, 1), padding=(2, 2), groups=1152, bias=False)\n",
            "          (bn2): BatchNorm2d(1152, eps=0.001, momentum=0.1, affine=True, track_running_stats=True)\n",
            "          (act2): SiLU(inplace=True)\n",
            "          (se): SqueezeExcite(\n",
            "            (conv_reduce): Conv2d(1152, 48, kernel_size=(1, 1), stride=(1, 1))\n",
            "            (act1): SiLU(inplace=True)\n",
            "            (conv_expand): Conv2d(48, 1152, kernel_size=(1, 1), stride=(1, 1))\n",
            "            (gate): Sigmoid()\n",
            "          )\n",
            "          (conv_pwl): Conv2d(1152, 192, kernel_size=(1, 1), stride=(1, 1), bias=False)\n",
            "          (bn3): BatchNorm2d(192, eps=0.001, momentum=0.1, affine=True, track_running_stats=True)\n",
            "        )\n",
            "        (2): InvertedResidual(\n",
            "          (conv_pw): Conv2d(192, 1152, kernel_size=(1, 1), stride=(1, 1), bias=False)\n",
            "          (bn1): BatchNorm2d(1152, eps=0.001, momentum=0.1, affine=True, track_running_stats=True)\n",
            "          (act1): SiLU(inplace=True)\n",
            "          (conv_dw): Conv2d(1152, 1152, kernel_size=(5, 5), stride=(1, 1), padding=(2, 2), groups=1152, bias=False)\n",
            "          (bn2): BatchNorm2d(1152, eps=0.001, momentum=0.1, affine=True, track_running_stats=True)\n",
            "          (act2): SiLU(inplace=True)\n",
            "          (se): SqueezeExcite(\n",
            "            (conv_reduce): Conv2d(1152, 48, kernel_size=(1, 1), stride=(1, 1))\n",
            "            (act1): SiLU(inplace=True)\n",
            "            (conv_expand): Conv2d(48, 1152, kernel_size=(1, 1), stride=(1, 1))\n",
            "            (gate): Sigmoid()\n",
            "          )\n",
            "          (conv_pwl): Conv2d(1152, 192, kernel_size=(1, 1), stride=(1, 1), bias=False)\n",
            "          (bn3): BatchNorm2d(192, eps=0.001, momentum=0.1, affine=True, track_running_stats=True)\n",
            "        )\n",
            "        (3): InvertedResidual(\n",
            "          (conv_pw): Conv2d(192, 1152, kernel_size=(1, 1), stride=(1, 1), bias=False)\n",
            "          (bn1): BatchNorm2d(1152, eps=0.001, momentum=0.1, affine=True, track_running_stats=True)\n",
            "          (act1): SiLU(inplace=True)\n",
            "          (conv_dw): Conv2d(1152, 1152, kernel_size=(5, 5), stride=(1, 1), padding=(2, 2), groups=1152, bias=False)\n",
            "          (bn2): BatchNorm2d(1152, eps=0.001, momentum=0.1, affine=True, track_running_stats=True)\n",
            "          (act2): SiLU(inplace=True)\n",
            "          (se): SqueezeExcite(\n",
            "            (conv_reduce): Conv2d(1152, 48, kernel_size=(1, 1), stride=(1, 1))\n",
            "            (act1): SiLU(inplace=True)\n",
            "            (conv_expand): Conv2d(48, 1152, kernel_size=(1, 1), stride=(1, 1))\n",
            "            (gate): Sigmoid()\n",
            "          )\n",
            "          (conv_pwl): Conv2d(1152, 192, kernel_size=(1, 1), stride=(1, 1), bias=False)\n",
            "          (bn3): BatchNorm2d(192, eps=0.001, momentum=0.1, affine=True, track_running_stats=True)\n",
            "        )\n",
            "      )\n",
            "      (6): Sequential(\n",
            "        (0): InvertedResidual(\n",
            "          (conv_pw): Conv2d(192, 1152, kernel_size=(1, 1), stride=(1, 1), bias=False)\n",
            "          (bn1): BatchNorm2d(1152, eps=0.001, momentum=0.1, affine=True, track_running_stats=True)\n",
            "          (act1): SiLU(inplace=True)\n",
            "          (conv_dw): Conv2d(1152, 1152, kernel_size=(3, 3), stride=(1, 1), padding=(1, 1), groups=1152, bias=False)\n",
            "          (bn2): BatchNorm2d(1152, eps=0.001, momentum=0.1, affine=True, track_running_stats=True)\n",
            "          (act2): SiLU(inplace=True)\n",
            "          (se): SqueezeExcite(\n",
            "            (conv_reduce): Conv2d(1152, 48, kernel_size=(1, 1), stride=(1, 1))\n",
            "            (act1): SiLU(inplace=True)\n",
            "            (conv_expand): Conv2d(48, 1152, kernel_size=(1, 1), stride=(1, 1))\n",
            "            (gate): Sigmoid()\n",
            "          )\n",
            "          (conv_pwl): Conv2d(1152, 320, kernel_size=(1, 1), stride=(1, 1), bias=False)\n",
            "          (bn3): BatchNorm2d(320, eps=0.001, momentum=0.1, affine=True, track_running_stats=True)\n",
            "        )\n",
            "      )\n",
            "    )\n",
            "    (conv_head): Conv2d(320, 1280, kernel_size=(1, 1), stride=(1, 1), bias=False)\n",
            "    (bn2): BatchNorm2d(1280, eps=0.001, momentum=0.1, affine=True, track_running_stats=True)\n",
            "    (act2): SiLU(inplace=True)\n",
            "    (global_pool): Identity()\n",
            "    (classifier): Identity()\n",
            "  )\n",
            "  (pooling): GeM(p=2.9484, eps=1e-06)\n",
            "  (embedding): Linear(in_features=1280, out_features=512, bias=True)\n",
            "  (fc): ArcMarginProduct()\n",
            ")\n"
          ]
        }
      ],
      "source": [
        "model = hs.get_best_model()\n",
        "print(model)\n",
        "#hs.evaluate_best_on_test_set()\n",
        "model.save(exp_name)"
      ]
    },
    {
      "cell_type": "markdown",
      "metadata": {
        "id": "4-YJCOZ3yNdK"
      },
      "source": []
    }
  ],
  "metadata": {
    "accelerator": "GPU",
    "colab": {
      "collapsed_sections": [],
      "name": "HappyWhale.ipynb",
      "provenance": []
    },
    "interpreter": {
      "hash": "047959887fc7b401bc223e3aa5310c3a590340a33f47823b1d5749438031b6f9"
    },
    "kernelspec": {
      "display_name": "Python 3.9.7 64-bit ('.venv_ift780': venv)",
      "language": "python",
      "name": "python3"
    },
    "language_info": {
      "codemirror_mode": {
        "name": "ipython",
        "version": 3
      },
      "file_extension": ".py",
      "mimetype": "text/x-python",
      "name": "python",
      "nbconvert_exporter": "python",
      "pygments_lexer": "ipython3",
      "version": "3.9.7"
    }
  },
  "nbformat": 4,
  "nbformat_minor": 0
}
