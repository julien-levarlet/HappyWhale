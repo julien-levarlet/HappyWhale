{
  "cells": [
    {
      "cell_type": "code",
      "execution_count": 13,
      "metadata": {
        "colab": {
          "base_uri": "https://localhost:8080/"
        },
        "id": "wGlyYvluyNcx",
        "outputId": "dcb95706-a1d4-418d-ae1a-3b294fe0ac01"
      },
      "outputs": [
        {
          "output_type": "stream",
          "name": "stdout",
          "text": [
            "Drive already mounted at /content/drive; to attempt to forcibly remount, call drive.mount(\"/content/drive\", force_remount=True).\n",
            "mkdir: cannot create directory ‘src’: File exists\n",
            "mkdir: cannot create directory ‘data’: File exists\n",
            "The autoreload extension is already loaded. To reload it, use:\n",
            "  %reload_ext autoreload\n"
          ]
        }
      ],
      "source": [
        "try:\n",
        "  from google.colab import drive\n",
        "  drive.mount('/content/drive')\n",
        "  !mkdir src\n",
        "  !cp -r drive/MyDrive/IFT780/HappyWhale/src/* src/\n",
        "  !mkdir data\n",
        "  !cp -r drive/MyDrive/IFT780/HappyWhale/data/* data/\n",
        "  IN_COLAB = True\n",
        "  #!pip install timm\n",
        "except:\n",
        "  IN_COLAB = False\n",
        "  #%pip install -r requirements.txt\n",
        "\n",
        "# Pour automatiquement recharger les modules externes\n",
        "# voir http://stackoverflow.com/questions/1907993/autoreload-of-modules-in-ipython\n",
        "%load_ext autoreload\n",
        "%autoreload 2"
      ]
    },
    {
      "cell_type": "markdown",
      "metadata": {
        "id": "XTgcMFrryNc7"
      },
      "source": [
        "# HappyWhale Challenge - Team WhalePlayed\n",
        "\n",
        "This notebook presents the work done by Gaétan Rey, Julien Levarlet and Timothée Wright, as part of the challenge https://www.kaggle.com/competitions/happy-whale-and-dolphin/overview ."
      ]
    },
    {
      "cell_type": "markdown",
      "metadata": {
        "id": "FBEpvY25yNc-"
      },
      "source": [
        "Imports :"
      ]
    },
    {
      "cell_type": "code",
      "execution_count": 14,
      "metadata": {
        "id": "IF1wvX3dyNc_"
      },
      "outputs": [],
      "source": [
        "import torch.nn as nn\n",
        "import torch\n",
        "from src.ModelTrainTestManager import ModelTrainTestManager, optimizer_setup\n",
        "from src.DataManager import DataManager\n",
        "from src.Models.ResNet import ResNet\n",
        "from src.Models.HappyWhaleModel import HappyWhaleModel"
      ]
    },
    {
      "cell_type": "markdown",
      "metadata": {
        "id": "HPLcrHV6yNdA"
      },
      "source": [
        "Parameters for the data :"
      ]
    },
    {
      "cell_type": "code",
      "execution_count": 15,
      "metadata": {
        "id": "NHnVDFYkyNdB"
      },
      "outputs": [],
      "source": [
        "data_csv = \"data/common_train.csv\"\n",
        "dataFolderPath = \"data/common_cropped_train_imgs\""
      ]
    },
    {
      "cell_type": "markdown",
      "metadata": {
        "id": "HsWIuBp7yNdC"
      },
      "source": [
        "Parameters for the training :"
      ]
    },
    {
      "cell_type": "code",
      "execution_count": 16,
      "metadata": {
        "id": "oE-WSe41yNdD"
      },
      "outputs": [],
      "source": [
        "batch_size = 10\n",
        "learning_rate = 0.01\n",
        "optimizer_factory = optimizer_setup(torch.optim.Adam, lr=learning_rate)\n",
        "\n",
        "test_percentage = 0.2\n",
        "val_percentage = 0.2\n",
        "\n",
        "exp_name = \"HappyWhale\""
      ]
    },
    {
      "cell_type": "markdown",
      "metadata": {
        "id": "VvLH9ra-yNdF"
      },
      "source": [
        "Parameters for the model :"
      ]
    },
    {
      "cell_type": "code",
      "execution_count": 17,
      "metadata": {
        "id": "cHz9BZWLyNdG",
        "colab": {
          "base_uri": "https://localhost:8080/"
        },
        "outputId": "bc7de30f-e45d-4685-a825-5014a2511674"
      },
      "outputs": [
        {
          "output_type": "stream",
          "name": "stderr",
          "text": [
            "Downloading: \"https://github.com/rwightman/pytorch-image-models/releases/download/v0.1-weights/tf_efficientnet_b0_ns-c0e6a31c.pth\" to /root/.cache/torch/hub/checkpoints/tf_efficientnet_b0_ns-c0e6a31c.pth\n"
          ]
        },
        {
          "output_type": "stream",
          "name": "stdout",
          "text": [
            "1280\n"
          ]
        }
      ],
      "source": [
        "num_classes=21\n",
        "in_channels=3\n",
        "depth=4\n",
        "option=\"small\"\n",
        "size=256\n",
        "\n",
        "# ArcFace Hyperparameters\n",
        "arcFace_config = {\n",
        "    \"s\": 30.0,  # scale (The scale parameter changes the shape of the logits. The higher the scale, the more peaky the logits vector becomes.)\n",
        "    \"m\": 0.50,  # margin (margin results in a bigger separation of classes in your training set)\n",
        "    \"ls_eps\": 0.0,\n",
        "    \"easy_margin\": False\n",
        "}\n",
        "\n",
        "model = HappyWhaleModel(\"tf_efficientnet_b0_ns\", 512, num_class=20, arcface_config=arcFace_config)\n",
        "#ResNet(num_classes, in_channels, depth, option, size, use_arcface=False)"
      ]
    },
    {
      "cell_type": "code",
      "execution_count": 18,
      "metadata": {
        "id": "wt1byr2QyNdH",
        "colab": {
          "base_uri": "https://localhost:8080/"
        },
        "outputId": "b50789a3-f7a5-4234-ebaf-866dda98e76f"
      },
      "outputs": [
        {
          "output_type": "stream",
          "name": "stdout",
          "text": [
            "                image  individual_id\n",
            "0  000a8f2d5c316a.jpg             12\n",
            "1  001001f099519f.jpg              2\n",
            "2  00144776eb476d.jpg             12\n",
            "3  0024057bbc89a4.jpg              1\n",
            "4  0028f6fa123686.jpg              9\n",
            "Dataset size : 1000\n",
            "Size of validation set : 160\n",
            "Size of test set : 200\n",
            "Size of train set : 640\n"
          ]
        },
        {
          "output_type": "stream",
          "name": "stderr",
          "text": [
            "/usr/local/lib/python3.7/dist-packages/torch/utils/data/dataloader.py:481: UserWarning: This DataLoader will create 4 worker processes in total. Our suggested max number of worker in current system is 2, which is smaller than what this DataLoader is going to create. Please be aware that excessive worker creation might get DataLoader running slow or even freeze, lower the worker number to avoid potential slowness/freeze if necessary.\n",
            "  cpuset_checked))\n"
          ]
        }
      ],
      "source": [
        "data_manager = DataManager(data_csv, dataFolderPath, batch_size,\n",
        "                test_percentage, val_percentage, verbose=True)\n",
        "\n",
        "model_trainer = ModelTrainTestManager(model=model,\n",
        "                                        data_manager = data_manager,\n",
        "                                        loss_fn=nn.CrossEntropyLoss(),\n",
        "                                        optimizer_factory=optimizer_factory,\n",
        "                                        exp_name = exp_name ,\n",
        "                                        learning_rate=learning_rate,\n",
        "                                        use_cuda=True)"
      ]
    },
    {
      "cell_type": "code",
      "execution_count": 19,
      "metadata": {
        "id": "i6yvatE5yNdJ",
        "colab": {
          "base_uri": "https://localhost:8080/",
          "height": 660
        },
        "outputId": "89b0325b-2d9e-4dfd-aec3-c12e4805bfb4"
      },
      "outputs": [
        {
          "output_type": "stream",
          "name": "stdout",
          "text": [
            "Epoch: 1 of 10\n"
          ]
        },
        {
          "output_type": "stream",
          "name": "stderr",
          "text": [
            "\r  0%|          | 0/64 [00:00<?, ?it/s]/usr/local/lib/python3.7/dist-packages/torch/utils/data/dataloader.py:481: UserWarning: This DataLoader will create 4 worker processes in total. Our suggested max number of worker in current system is 2, which is smaller than what this DataLoader is going to create. Please be aware that excessive worker creation might get DataLoader running slow or even freeze, lower the worker number to avoid potential slowness/freeze if necessary.\n",
            "  cpuset_checked))\n",
            "100%|██████████| 64/64 [00:16<00:00,  3.79it/s, loss=18.870]\n"
          ]
        },
        {
          "output_type": "error",
          "ename": "TypeError",
          "evalue": "ignored",
          "traceback": [
            "\u001b[0;31m---------------------------------------------------------------------------\u001b[0m",
            "\u001b[0;31mTypeError\u001b[0m                                 Traceback (most recent call last)",
            "\u001b[0;32m<ipython-input-19-010e26d9c1a4>\u001b[0m in \u001b[0;36m<module>\u001b[0;34m()\u001b[0m\n\u001b[1;32m      1\u001b[0m \u001b[0mepoch\u001b[0m\u001b[0;34m=\u001b[0m\u001b[0;36m10\u001b[0m\u001b[0;34m\u001b[0m\u001b[0;34m\u001b[0m\u001b[0m\n\u001b[0;32m----> 2\u001b[0;31m \u001b[0mmodel_trainer\u001b[0m\u001b[0;34m.\u001b[0m\u001b[0mtrain\u001b[0m\u001b[0;34m(\u001b[0m\u001b[0mepoch\u001b[0m\u001b[0;34m)\u001b[0m\u001b[0;34m\u001b[0m\u001b[0;34m\u001b[0m\u001b[0m\n\u001b[0m",
            "\u001b[0;32m/content/src/ModelTrainTestManager.py\u001b[0m in \u001b[0;36mtrain\u001b[0;34m(self, num_epochs, start_epoch, metric_values)\u001b[0m\n\u001b[1;32m    134\u001b[0m             \u001b[0mself\u001b[0m\u001b[0;34m.\u001b[0m\u001b[0mmetric_values\u001b[0m\u001b[0;34m[\u001b[0m\u001b[0;34m'train_loss'\u001b[0m\u001b[0;34m]\u001b[0m\u001b[0;34m.\u001b[0m\u001b[0mappend\u001b[0m\u001b[0;34m(\u001b[0m\u001b[0mnp\u001b[0m\u001b[0;34m.\u001b[0m\u001b[0mmean\u001b[0m\u001b[0;34m(\u001b[0m\u001b[0mtrain_losses\u001b[0m\u001b[0;34m)\u001b[0m\u001b[0;34m)\u001b[0m\u001b[0;34m\u001b[0m\u001b[0;34m\u001b[0m\u001b[0m\n\u001b[1;32m    135\u001b[0m             \u001b[0mself\u001b[0m\u001b[0;34m.\u001b[0m\u001b[0mmetric_values\u001b[0m\u001b[0;34m[\u001b[0m\u001b[0;34m'train_acc'\u001b[0m\u001b[0;34m]\u001b[0m\u001b[0;34m.\u001b[0m\u001b[0mappend\u001b[0m\u001b[0;34m(\u001b[0m\u001b[0mnp\u001b[0m\u001b[0;34m.\u001b[0m\u001b[0mmean\u001b[0m\u001b[0;34m(\u001b[0m\u001b[0mtrain_accuracies\u001b[0m\u001b[0;34m)\u001b[0m\u001b[0;34m)\u001b[0m\u001b[0;34m\u001b[0m\u001b[0;34m\u001b[0m\u001b[0m\n\u001b[0;32m--> 136\u001b[0;31m             \u001b[0mself\u001b[0m\u001b[0;34m.\u001b[0m\u001b[0mevaluate_on_validation_set\u001b[0m\u001b[0;34m(\u001b[0m\u001b[0;34m)\u001b[0m\u001b[0;34m\u001b[0m\u001b[0;34m\u001b[0m\u001b[0m\n\u001b[0m\u001b[1;32m    137\u001b[0m \u001b[0;34m\u001b[0m\u001b[0m\n\u001b[1;32m    138\u001b[0m         \u001b[0mprint\u001b[0m\u001b[0;34m(\u001b[0m\u001b[0;34m\"Finished training.\"\u001b[0m\u001b[0;34m)\u001b[0m\u001b[0;34m\u001b[0m\u001b[0;34m\u001b[0m\u001b[0m\n",
            "\u001b[0;32m/content/src/ModelTrainTestManager.py\u001b[0m in \u001b[0;36mevaluate_on_validation_set\u001b[0;34m(self)\u001b[0m\n\u001b[1;32m    159\u001b[0m \u001b[0;34m\u001b[0m\u001b[0m\n\u001b[1;32m    160\u001b[0m                 \u001b[0;31m# forward pass\u001b[0m\u001b[0;34m\u001b[0m\u001b[0;34m\u001b[0m\u001b[0;34m\u001b[0m\u001b[0m\n\u001b[0;32m--> 161\u001b[0;31m                 \u001b[0mval_outputs\u001b[0m \u001b[0;34m=\u001b[0m \u001b[0mself\u001b[0m\u001b[0;34m.\u001b[0m\u001b[0mmodel\u001b[0m\u001b[0;34m(\u001b[0m\u001b[0mval_inputs\u001b[0m\u001b[0;34m)\u001b[0m\u001b[0;34m\u001b[0m\u001b[0;34m\u001b[0m\u001b[0m\n\u001b[0m\u001b[1;32m    162\u001b[0m \u001b[0;34m\u001b[0m\u001b[0m\n\u001b[1;32m    163\u001b[0m                 \u001b[0;31m# compute loss function\u001b[0m\u001b[0;34m\u001b[0m\u001b[0;34m\u001b[0m\u001b[0;34m\u001b[0m\u001b[0m\n",
            "\u001b[0;32m/usr/local/lib/python3.7/dist-packages/torch/nn/modules/module.py\u001b[0m in \u001b[0;36m_call_impl\u001b[0;34m(self, *input, **kwargs)\u001b[0m\n\u001b[1;32m   1100\u001b[0m         if not (self._backward_hooks or self._forward_hooks or self._forward_pre_hooks or _global_backward_hooks\n\u001b[1;32m   1101\u001b[0m                 or _global_forward_hooks or _global_forward_pre_hooks):\n\u001b[0;32m-> 1102\u001b[0;31m             \u001b[0;32mreturn\u001b[0m \u001b[0mforward_call\u001b[0m\u001b[0;34m(\u001b[0m\u001b[0;34m*\u001b[0m\u001b[0minput\u001b[0m\u001b[0;34m,\u001b[0m \u001b[0;34m**\u001b[0m\u001b[0mkwargs\u001b[0m\u001b[0;34m)\u001b[0m\u001b[0;34m\u001b[0m\u001b[0;34m\u001b[0m\u001b[0m\n\u001b[0m\u001b[1;32m   1103\u001b[0m         \u001b[0;31m# Do not call functions when jit is used\u001b[0m\u001b[0;34m\u001b[0m\u001b[0;34m\u001b[0m\u001b[0;34m\u001b[0m\u001b[0m\n\u001b[1;32m   1104\u001b[0m         \u001b[0mfull_backward_hooks\u001b[0m\u001b[0;34m,\u001b[0m \u001b[0mnon_full_backward_hooks\u001b[0m \u001b[0;34m=\u001b[0m \u001b[0;34m[\u001b[0m\u001b[0;34m]\u001b[0m\u001b[0;34m,\u001b[0m \u001b[0;34m[\u001b[0m\u001b[0;34m]\u001b[0m\u001b[0;34m\u001b[0m\u001b[0;34m\u001b[0m\u001b[0m\n",
            "\u001b[0;31mTypeError\u001b[0m: forward() missing 1 required positional argument: 'labels'"
          ]
        }
      ],
      "source": [
        "epoch=10\n",
        "model_trainer.train(epoch)"
      ]
    },
    {
      "cell_type": "code",
      "execution_count": null,
      "metadata": {
        "id": "-OkZSSAoyNdK"
      },
      "outputs": [],
      "source": [
        "model_trainer.evaluate_on_test_set()\n",
        "model_trainer.plot_metrics()"
      ]
    },
    {
      "cell_type": "markdown",
      "metadata": {
        "id": "4-YJCOZ3yNdK"
      },
      "source": [
        ""
      ]
    }
  ],
  "metadata": {
    "accelerator": "GPU",
    "colab": {
      "collapsed_sections": [],
      "name": "HappyWhale.ipynb",
      "provenance": []
    },
    "interpreter": {
      "hash": "047959887fc7b401bc223e3aa5310c3a590340a33f47823b1d5749438031b6f9"
    },
    "kernelspec": {
      "display_name": "Python 3.9.7 64-bit ('.venv_ift780': venv)",
      "language": "python",
      "name": "python3"
    },
    "language_info": {
      "codemirror_mode": {
        "name": "ipython",
        "version": 3
      },
      "file_extension": ".py",
      "mimetype": "text/x-python",
      "name": "python",
      "nbconvert_exporter": "python",
      "pygments_lexer": "ipython3",
      "version": "3.9.7"
    }
  },
  "nbformat": 4,
  "nbformat_minor": 0
}