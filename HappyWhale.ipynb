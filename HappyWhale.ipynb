{
  "cells": [
    {
      "cell_type": "code",
      "execution_count": 1,
      "metadata": {
        "colab": {
          "base_uri": "https://localhost:8080/"
        },
        "id": "wGlyYvluyNcx",
        "outputId": "dcb95706-a1d4-418d-ae1a-3b294fe0ac01"
      },
      "outputs": [],
      "source": [
        "try:\n",
        "  from google.colab import drive\n",
        "  drive.mount('/content/drive')\n",
        "  !mkdir src\n",
        "  !cp -r drive/MyDrive/IFT780/HappyWhale/src/* src/\n",
        "  !mkdir data\n",
        "  !cp -r drive/MyDrive/IFT780/HappyWhale/data/* data/\n",
        "  IN_COLAB = True\n",
        "  #!pip install timm\n",
        "except:\n",
        "  IN_COLAB = False\n",
        "  #%pip install -r requirements.txt\n",
        "\n",
        "# Pour automatiquement recharger les modules externes\n",
        "# voir http://stackoverflow.com/questions/1907993/autoreload-of-modules-in-ipython\n",
        "%load_ext autoreload\n",
        "%autoreload 2"
      ]
    },
    {
      "cell_type": "markdown",
      "metadata": {
        "id": "XTgcMFrryNc7"
      },
      "source": [
        "# HappyWhale Challenge - Team WhalePlayed\n",
        "\n",
        "This notebook presents the work done by Gaétan Rey, Julien Levarlet and Timothée Wright, as part of the challenge https://www.kaggle.com/competitions/happy-whale-and-dolphin/overview ."
      ]
    },
    {
      "cell_type": "markdown",
      "metadata": {
        "id": "FBEpvY25yNc-"
      },
      "source": [
        "Imports :"
      ]
    },
    {
      "cell_type": "code",
      "execution_count": 2,
      "metadata": {
        "id": "IF1wvX3dyNc_"
      },
      "outputs": [],
      "source": [
        "import torch.nn as nn\n",
        "import torch\n",
        "from src.ModelTrainTestManager import ModelTrainTestManager, optimizer_setup\n",
        "from src.DataManager import DataManager\n",
        "from src.Models.ResNet import ResNet\n",
        "from src.Models.HappyWhaleModel import HappyWhaleModel\n",
        "\n",
        "torch.cuda.empty_cache()"
      ]
    },
    {
      "cell_type": "markdown",
      "metadata": {
        "id": "HPLcrHV6yNdA"
      },
      "source": [
        "Parameters for the data :"
      ]
    },
    {
      "cell_type": "code",
      "execution_count": 3,
      "metadata": {
        "id": "NHnVDFYkyNdB"
      },
      "outputs": [],
      "source": [
        "data_csv = \"data/five.csv\"\n",
        "dataFolderPath = \"data/five_class\""
      ]
    },
    {
      "cell_type": "markdown",
      "metadata": {
        "id": "HsWIuBp7yNdC"
      },
      "source": [
        "Parameters for the training :"
      ]
    },
    {
      "cell_type": "code",
      "execution_count": 4,
      "metadata": {
        "id": "oE-WSe41yNdD"
      },
      "outputs": [
        {
          "name": "stdout",
          "output_type": "stream",
          "text": [
            "                image  individual_id\n",
            "0  000a8f2d5c316a.jpg             12\n",
            "1  001001f099519f.jpg              2\n",
            "2  00144776eb476d.jpg             12\n",
            "3  0024057bbc89a4.jpg              1\n",
            "4  0028f6fa123686.jpg              9\n",
            "Dataset size : 1000\n",
            "Size of validation set : 160\n",
            "Size of test set : 200\n",
            "Size of train set : 640\n",
            "1 0\n",
            "1 0\n",
            "1 0\n"
          ]
        }
      ],
      "source": [
        "batch_size = 5\n",
        "learning_rate = 0.01\n",
        "optimizer_factory = optimizer_setup(torch.optim.Adam, lr=learning_rate)\n",
        "\n",
        "test_percentage = 0.2\n",
        "val_percentage = 0.2\n",
        "\n",
        "exp_name = \"HappyWhale\"\n",
        "\n",
        "\n",
        "data_manager = DataManager(data_csv, dataFolderPath, batch_size,\n",
        "                test_percentage, val_percentage, verbose=True)"
      ]
    },
    {
      "cell_type": "markdown",
      "metadata": {
        "id": "VvLH9ra-yNdF"
      },
      "source": [
        "Parameters for the model :"
      ]
    },
    {
      "cell_type": "code",
      "execution_count": 5,
      "metadata": {
        "colab": {
          "base_uri": "https://localhost:8080/"
        },
        "id": "cHz9BZWLyNdG",
        "outputId": "bc7de30f-e45d-4685-a825-5014a2511674"
      },
      "outputs": [],
      "source": [
        "in_channels=3\n",
        "depth=3\n",
        "option=\"small\"\n",
        "size=256\n",
        "num_class = data_manager.get_number_of_classes()\n",
        "\n",
        "# ArcFace Hyperparameters\n",
        "arcFace_config = {\n",
        "    \"s\": 30.0,  # scale (The scale parameter changes the shape of the logits. The higher the scale, the more peaky the logits vector becomes.)\n",
        "    \"m\": 0.50,  # margin (margin results in a bigger separation of classes in your training set)\n",
        "    \"ls_eps\": 0.0,\n",
        "    \"easy_margin\": False\n",
        "}\n",
        "\n",
        "model = HappyWhaleModel(\"tf_efficientnet_b0_ns\", 512, num_class=num_class, arcface_config=arcFace_config)\n",
        "#model = ResNet(num_class, in_channels, depth, option, size)"
      ]
    },
    {
      "cell_type": "code",
      "execution_count": 6,
      "metadata": {
        "colab": {
          "base_uri": "https://localhost:8080/"
        },
        "id": "wt1byr2QyNdH",
        "outputId": "b50789a3-f7a5-4234-ebaf-866dda98e76f"
      },
      "outputs": [],
      "source": [
        "model_trainer = ModelTrainTestManager(model=model,\n",
        "                                        data_manager = data_manager,\n",
        "                                        loss_fn=nn.CrossEntropyLoss(),\n",
        "                                        optimizer_factory=optimizer_factory,\n",
        "                                        exp_name = exp_name ,\n",
        "                                        learning_rate=learning_rate,\n",
        "                                        use_cuda=True)"
      ]
    },
    {
      "cell_type": "code",
      "execution_count": 7,
      "metadata": {
        "colab": {
          "base_uri": "https://localhost:8080/",
          "height": 660
        },
        "id": "i6yvatE5yNdJ",
        "outputId": "89b0325b-2d9e-4dfd-aec3-c12e4805bfb4"
      },
      "outputs": [
        {
          "name": "stderr",
          "output_type": "stream",
          "text": [
            "  0%|          | 0/128 [00:00<?, ?it/s]"
          ]
        },
        {
          "name": "stdout",
          "output_type": "stream",
          "text": [
            "Epoch: 1 of 20\n"
          ]
        },
        {
          "name": "stderr",
          "output_type": "stream",
          "text": [
            "100%|██████████| 128/128 [00:16<00:00,  7.98it/s, loss=3.033]\n",
            "  0%|          | 0/128 [00:00<?, ?it/s]"
          ]
        },
        {
          "name": "stdout",
          "output_type": "stream",
          "text": [
            "Validation loss 3.009\n",
            "Epoch: 2 of 20\n"
          ]
        },
        {
          "name": "stderr",
          "output_type": "stream",
          "text": [
            "100%|██████████| 128/128 [00:13<00:00,  9.24it/s, loss=3.025]\n",
            "  0%|          | 0/128 [00:00<?, ?it/s]"
          ]
        },
        {
          "name": "stdout",
          "output_type": "stream",
          "text": [
            "Validation loss 3.009\n",
            "Epoch: 3 of 20\n"
          ]
        },
        {
          "name": "stderr",
          "output_type": "stream",
          "text": [
            "100%|██████████| 128/128 [00:13<00:00,  9.67it/s, loss=3.047]\n",
            "  0%|          | 0/128 [00:00<?, ?it/s]"
          ]
        },
        {
          "name": "stdout",
          "output_type": "stream",
          "text": [
            "Validation loss 3.028\n",
            "Epoch: 4 of 20\n"
          ]
        },
        {
          "name": "stderr",
          "output_type": "stream",
          "text": [
            "100%|██████████| 128/128 [00:12<00:00,  9.87it/s, loss=3.033]\n",
            "  0%|          | 0/128 [00:00<?, ?it/s]"
          ]
        },
        {
          "name": "stdout",
          "output_type": "stream",
          "text": [
            "Validation loss 3.028\n",
            "Epoch: 5 of 20\n"
          ]
        },
        {
          "name": "stderr",
          "output_type": "stream",
          "text": [
            "100%|██████████| 128/128 [00:12<00:00, 10.02it/s, loss=3.036]\n",
            "  0%|          | 0/128 [00:00<?, ?it/s]"
          ]
        },
        {
          "name": "stdout",
          "output_type": "stream",
          "text": [
            "Validation loss 3.059\n",
            "Epoch: 6 of 20\n"
          ]
        },
        {
          "name": "stderr",
          "output_type": "stream",
          "text": [
            "100%|██████████| 128/128 [00:12<00:00, 10.01it/s, loss=3.031]\n",
            "  0%|          | 0/128 [00:00<?, ?it/s]"
          ]
        },
        {
          "name": "stdout",
          "output_type": "stream",
          "text": [
            "Validation loss 3.003\n",
            "Epoch: 7 of 20\n"
          ]
        },
        {
          "name": "stderr",
          "output_type": "stream",
          "text": [
            "100%|██████████| 128/128 [00:14<00:00,  8.67it/s, loss=3.034]\n",
            "  0%|          | 0/128 [00:00<?, ?it/s]"
          ]
        },
        {
          "name": "stdout",
          "output_type": "stream",
          "text": [
            "Validation loss 2.991\n",
            "Epoch: 8 of 20\n"
          ]
        },
        {
          "name": "stderr",
          "output_type": "stream",
          "text": [
            "100%|██████████| 128/128 [00:12<00:00,  9.99it/s, loss=3.036]\n",
            "  0%|          | 0/128 [00:00<?, ?it/s]"
          ]
        },
        {
          "name": "stdout",
          "output_type": "stream",
          "text": [
            "Validation loss 3.003\n",
            "Epoch: 9 of 20\n"
          ]
        },
        {
          "name": "stderr",
          "output_type": "stream",
          "text": [
            "100%|██████████| 128/128 [00:12<00:00,  9.88it/s, loss=3.031]\n",
            "  0%|          | 0/128 [00:00<?, ?it/s]"
          ]
        },
        {
          "name": "stdout",
          "output_type": "stream",
          "text": [
            "Validation loss 2.997\n",
            "Epoch: 10 of 20\n"
          ]
        },
        {
          "name": "stderr",
          "output_type": "stream",
          "text": [
            "100%|██████████| 128/128 [00:13<00:00,  9.80it/s, loss=3.030]\n",
            "  0%|          | 0/128 [00:00<?, ?it/s]"
          ]
        },
        {
          "name": "stdout",
          "output_type": "stream",
          "text": [
            "Validation loss 2.991\n",
            "Epoch: 11 of 20\n"
          ]
        },
        {
          "name": "stderr",
          "output_type": "stream",
          "text": [
            "100%|██████████| 128/128 [00:12<00:00,  9.99it/s, loss=3.028]\n",
            "  0%|          | 0/128 [00:00<?, ?it/s]"
          ]
        },
        {
          "name": "stdout",
          "output_type": "stream",
          "text": [
            "Validation loss 3.041\n",
            "Epoch: 12 of 20\n"
          ]
        },
        {
          "name": "stderr",
          "output_type": "stream",
          "text": [
            "100%|██████████| 128/128 [00:12<00:00,  9.93it/s, loss=3.031]\n",
            "  0%|          | 0/128 [00:00<?, ?it/s]"
          ]
        },
        {
          "name": "stdout",
          "output_type": "stream",
          "text": [
            "Validation loss 3.047\n",
            "Epoch: 13 of 20\n"
          ]
        },
        {
          "name": "stderr",
          "output_type": "stream",
          "text": [
            "100%|██████████| 128/128 [00:12<00:00,  9.93it/s, loss=3.031]\n",
            "  0%|          | 0/128 [00:00<?, ?it/s]"
          ]
        },
        {
          "name": "stdout",
          "output_type": "stream",
          "text": [
            "Validation loss 3.047\n",
            "Epoch: 14 of 20\n"
          ]
        },
        {
          "name": "stderr",
          "output_type": "stream",
          "text": [
            "100%|██████████| 128/128 [00:12<00:00,  9.99it/s, loss=3.031]\n",
            "  0%|          | 0/128 [00:00<?, ?it/s]"
          ]
        },
        {
          "name": "stdout",
          "output_type": "stream",
          "text": [
            "Validation loss 3.047\n",
            "Epoch: 15 of 20\n"
          ]
        },
        {
          "name": "stderr",
          "output_type": "stream",
          "text": [
            "100%|██████████| 128/128 [00:13<00:00,  9.21it/s, loss=3.031]\n",
            "  0%|          | 0/128 [00:00<?, ?it/s]"
          ]
        },
        {
          "name": "stdout",
          "output_type": "stream",
          "text": [
            "Validation loss 3.047\n",
            "Epoch: 16 of 20\n"
          ]
        },
        {
          "name": "stderr",
          "output_type": "stream",
          "text": [
            "100%|██████████| 128/128 [00:14<00:00,  8.92it/s, loss=3.031]\n",
            "  0%|          | 0/128 [00:00<?, ?it/s]"
          ]
        },
        {
          "name": "stdout",
          "output_type": "stream",
          "text": [
            "Validation loss 3.047\n",
            "Epoch: 17 of 20\n"
          ]
        },
        {
          "name": "stderr",
          "output_type": "stream",
          "text": [
            "100%|██████████| 128/128 [00:12<00:00,  9.99it/s, loss=3.031]\n",
            "  0%|          | 0/128 [00:00<?, ?it/s]"
          ]
        },
        {
          "name": "stdout",
          "output_type": "stream",
          "text": [
            "Validation loss 3.047\n",
            "Epoch: 18 of 20\n"
          ]
        },
        {
          "name": "stderr",
          "output_type": "stream",
          "text": [
            "100%|██████████| 128/128 [00:14<00:00,  8.94it/s, loss=3.031]\n",
            "  0%|          | 0/128 [00:00<?, ?it/s]"
          ]
        },
        {
          "name": "stdout",
          "output_type": "stream",
          "text": [
            "Validation loss 3.047\n",
            "Epoch: 19 of 20\n"
          ]
        },
        {
          "name": "stderr",
          "output_type": "stream",
          "text": [
            "100%|██████████| 128/128 [00:12<00:00,  9.88it/s, loss=3.031]\n",
            "  0%|          | 0/128 [00:00<?, ?it/s]"
          ]
        },
        {
          "name": "stdout",
          "output_type": "stream",
          "text": [
            "Validation loss 3.047\n",
            "Epoch: 20 of 20\n"
          ]
        },
        {
          "name": "stderr",
          "output_type": "stream",
          "text": [
            "100%|██████████| 128/128 [00:13<00:00,  9.73it/s, loss=3.031]\n"
          ]
        },
        {
          "name": "stdout",
          "output_type": "stream",
          "text": [
            "Validation loss 3.047\n",
            "Finished training.\n"
          ]
        }
      ],
      "source": [
        "epoch=20\n",
        "model_trainer.train(epoch)"
      ]
    },
    {
      "cell_type": "code",
      "execution_count": 8,
      "metadata": {
        "id": "-OkZSSAoyNdK"
      },
      "outputs": [
        {
          "name": "stdout",
          "output_type": "stream",
          "text": [
            "Accuracy on the test set: 0.075 %\n"
          ]
        },
        {
          "data": {
            "image/png": "[encoded data removed]",
            "text/plain": [
              "<Figure size 720x360 with 2 Axes>"
            ]
          },
          "metadata": {
            "needs_background": "light"
          },
          "output_type": "display_data"
        }
      ],
      "source": [
        "model_trainer.evaluate_on_test_set()\n",
        "model_trainer.plot_metrics(exp_name)"
      ]
    },
    {
      "cell_type": "code",
      "execution_count": 9,
      "metadata": {},
      "outputs": [
        {
          "name": "stderr",
          "output_type": "stream",
          "text": [
            "  0%|          | 0/128 [00:00<?, ?it/s]"
          ]
        },
        {
          "name": "stdout",
          "output_type": "stream",
          "text": [
            "Parameters : lr 0.1 , s 20 , m 0.4\n"
          ]
        },
        {
          "name": "stderr",
          "output_type": "stream",
          "text": [
            "100%|██████████| 128/128 [00:12<00:00, 10.25it/s, loss=3.032]\n",
            "100%|██████████| 128/128 [00:12<00:00, 10.17it/s, loss=3.036]\n",
            "100%|██████████| 128/128 [00:12<00:00, 10.07it/s, loss=3.033]\n",
            "  0%|          | 0/128 [00:00<?, ?it/s]"
          ]
        },
        {
          "name": "stdout",
          "output_type": "stream",
          "text": [
            "Finished training.\n",
            "Validation loss : 3.0156497433781624 , validation accuracy : 0.0625\n",
            "Parameters : lr 0.1 , s 20 , m 0.5\n"
          ]
        },
        {
          "name": "stderr",
          "output_type": "stream",
          "text": [
            "100%|██████████| 128/128 [00:13<00:00,  9.53it/s, loss=3.010]\n",
            "100%|██████████| 128/128 [00:13<00:00,  9.42it/s, loss=3.022]\n",
            "100%|██████████| 128/128 [00:14<00:00,  8.75it/s, loss=3.028]\n",
            "  0%|          | 0/128 [00:00<?, ?it/s]"
          ]
        },
        {
          "name": "stdout",
          "output_type": "stream",
          "text": [
            "Finished training.\n",
            "Validation loss : 3.046904556453228 , validation accuracy : 0.03125\n",
            "Parameters : lr 0.1 , s 20 , m 0.6\n"
          ]
        },
        {
          "name": "stderr",
          "output_type": "stream",
          "text": [
            "100%|██████████| 128/128 [00:14<00:00,  8.78it/s, loss=3.035]\n",
            "100%|██████████| 128/128 [00:13<00:00,  9.56it/s, loss=3.028]\n",
            "100%|██████████| 128/128 [00:13<00:00,  9.70it/s, loss=3.031]\n",
            "  0%|          | 0/128 [00:00<?, ?it/s]"
          ]
        },
        {
          "name": "stdout",
          "output_type": "stream",
          "text": [
            "Finished training.\n",
            "Validation loss : 2.9969041645526886 , validation accuracy : 0.08125000000000002\n",
            "Parameters : lr 0.1 , s 30.0 , m 0.4\n"
          ]
        },
        {
          "name": "stderr",
          "output_type": "stream",
          "text": [
            "100%|██████████| 128/128 [00:12<00:00,  9.87it/s, loss=3.024]\n",
            "100%|██████████| 128/128 [00:13<00:00,  9.40it/s, loss=3.030]\n",
            "100%|██████████| 128/128 [00:13<00:00,  9.71it/s, loss=3.020]\n",
            "  0%|          | 0/128 [00:00<?, ?it/s]"
          ]
        },
        {
          "name": "stdout",
          "output_type": "stream",
          "text": [
            "Finished training.\n",
            "Validation loss : 3.0156545490026474 , validation accuracy : 0.0625\n",
            "Parameters : lr 0.1 , s 30.0 , m 0.5\n"
          ]
        },
        {
          "name": "stderr",
          "output_type": "stream",
          "text": [
            "100%|██████████| 128/128 [00:13<00:00,  9.71it/s, loss=3.031]\n",
            "100%|██████████| 128/128 [00:13<00:00,  9.59it/s, loss=3.028]\n",
            "100%|██████████| 128/128 [00:13<00:00,  9.36it/s, loss=3.028]\n",
            "  0%|          | 0/128 [00:00<?, ?it/s]"
          ]
        },
        {
          "name": "stdout",
          "output_type": "stream",
          "text": [
            "Finished training.\n",
            "Validation loss : 3.0281452909111977 , validation accuracy : 0.05\n",
            "Parameters : lr 0.1 , s 30.0 , m 0.6\n"
          ]
        },
        {
          "name": "stderr",
          "output_type": "stream",
          "text": [
            "100%|██████████| 128/128 [00:12<00:00, 10.07it/s, loss=3.036]\n",
            "  0%|          | 0/128 [00:03<?, ?it/s]\n"
          ]
        },
        {
          "ename": "KeyboardInterrupt",
          "evalue": "",
          "output_type": "error",
          "traceback": [
            "\u001b[1;31m---------------------------------------------------------------------------\u001b[0m",
            "\u001b[1;31mKeyboardInterrupt\u001b[0m                         Traceback (most recent call last)",
            "\u001b[1;32mc:\\Users\\gaeta\\OneDrive\\Documents\\Developpement\\Python\\Forage\\Projet\\HappyWhale\\HappyWhale.ipynb Cell 14'\u001b[0m in \u001b[0;36m<cell line: 9>\u001b[1;34m()\u001b[0m\n\u001b[0;32m      <a href='vscode-notebook-cell:/c%3A/Users/gaeta/OneDrive/Documents/Developpement/Python/Forage/Projet/HappyWhale/HappyWhale.ipynb#ch0000013?line=0'>1</a>\u001b[0m \u001b[39mfrom\u001b[39;00m \u001b[39msrc\u001b[39;00m\u001b[39m.\u001b[39;00m\u001b[39mHyperparameterSearch\u001b[39;00m \u001b[39mimport\u001b[39;00m HyperparameterSearchManager\n\u001b[0;32m      <a href='vscode-notebook-cell:/c%3A/Users/gaeta/OneDrive/Documents/Developpement/Python/Forage/Projet/HappyWhale/HappyWhale.ipynb#ch0000013?line=2'>3</a>\u001b[0m params \u001b[39m=\u001b[39m {\n\u001b[0;32m      <a href='vscode-notebook-cell:/c%3A/Users/gaeta/OneDrive/Documents/Developpement/Python/Forage/Projet/HappyWhale/HappyWhale.ipynb#ch0000013?line=3'>4</a>\u001b[0m     \u001b[39m\"\u001b[39m\u001b[39mlearning_rate\u001b[39m\u001b[39m\"\u001b[39m: [\u001b[39m0.1\u001b[39m,\u001b[39m0.01\u001b[39m,\u001b[39m0.001\u001b[39m],\n\u001b[0;32m      <a href='vscode-notebook-cell:/c%3A/Users/gaeta/OneDrive/Documents/Developpement/Python/Forage/Projet/HappyWhale/HappyWhale.ipynb#ch0000013?line=4'>5</a>\u001b[0m     \u001b[39m\"\u001b[39m\u001b[39marcface_s\u001b[39m\u001b[39m\"\u001b[39m: [\u001b[39m20\u001b[39m,\u001b[39m30.0\u001b[39m,\u001b[39m40\u001b[39m],\n\u001b[0;32m      <a href='vscode-notebook-cell:/c%3A/Users/gaeta/OneDrive/Documents/Developpement/Python/Forage/Projet/HappyWhale/HappyWhale.ipynb#ch0000013?line=5'>6</a>\u001b[0m     \u001b[39m\"\u001b[39m\u001b[39marcface_m\u001b[39m\u001b[39m\"\u001b[39m: [\u001b[39m0.4\u001b[39m,\u001b[39m0.5\u001b[39m,\u001b[39m0.6\u001b[39m],\n\u001b[0;32m      <a href='vscode-notebook-cell:/c%3A/Users/gaeta/OneDrive/Documents/Developpement/Python/Forage/Projet/HappyWhale/HappyWhale.ipynb#ch0000013?line=6'>7</a>\u001b[0m }\n\u001b[1;32m----> <a href='vscode-notebook-cell:/c%3A/Users/gaeta/OneDrive/Documents/Developpement/Python/Forage/Projet/HappyWhale/HappyWhale.ipynb#ch0000013?line=8'>9</a>\u001b[0m hs \u001b[39m=\u001b[39m HyperparameterSearchManager(HappyWhaleModel,\n\u001b[0;32m     <a href='vscode-notebook-cell:/c%3A/Users/gaeta/OneDrive/Documents/Developpement/Python/Forage/Projet/HappyWhale/HappyWhale.ipynb#ch0000013?line=9'>10</a>\u001b[0m                 params\u001b[39m=\u001b[39;49mparams,\n\u001b[0;32m     <a href='vscode-notebook-cell:/c%3A/Users/gaeta/OneDrive/Documents/Developpement/Python/Forage/Projet/HappyWhale/HappyWhale.ipynb#ch0000013?line=10'>11</a>\u001b[0m                 data_manager \u001b[39m=\u001b[39;49m data_manager,\n\u001b[0;32m     <a href='vscode-notebook-cell:/c%3A/Users/gaeta/OneDrive/Documents/Developpement/Python/Forage/Projet/HappyWhale/HappyWhale.ipynb#ch0000013?line=11'>12</a>\u001b[0m                 loss_fn\u001b[39m=\u001b[39;49mnn\u001b[39m.\u001b[39;49mCrossEntropyLoss(),\n\u001b[0;32m     <a href='vscode-notebook-cell:/c%3A/Users/gaeta/OneDrive/Documents/Developpement/Python/Forage/Projet/HappyWhale/HappyWhale.ipynb#ch0000013?line=12'>13</a>\u001b[0m                 optimizer_factory\u001b[39m=\u001b[39;49moptimizer_factory,\n\u001b[0;32m     <a href='vscode-notebook-cell:/c%3A/Users/gaeta/OneDrive/Documents/Developpement/Python/Forage/Projet/HappyWhale/HappyWhale.ipynb#ch0000013?line=13'>14</a>\u001b[0m                 exp_name\u001b[39m=\u001b[39;49m\u001b[39m\"\u001b[39;49m\u001b[39mhyperparameter_search\u001b[39;49m\u001b[39m\"\u001b[39;49m,\n\u001b[0;32m     <a href='vscode-notebook-cell:/c%3A/Users/gaeta/OneDrive/Documents/Developpement/Python/Forage/Projet/HappyWhale/HappyWhale.ipynb#ch0000013?line=14'>15</a>\u001b[0m                 num_epoch\u001b[39m=\u001b[39;49m\u001b[39m3\u001b[39;49m,)\n\u001b[0;32m     <a href='vscode-notebook-cell:/c%3A/Users/gaeta/OneDrive/Documents/Developpement/Python/Forage/Projet/HappyWhale/HappyWhale.ipynb#ch0000013?line=16'>17</a>\u001b[0m \u001b[39mprint\u001b[39m(hs\u001b[39m.\u001b[39mget_best_param())\n",
            "File \u001b[1;32mc:\\Users\\gaeta\\OneDrive\\Documents\\Developpement\\Python\\Forage\\Projet\\HappyWhale\\src\\HyperparameterSearch.py:43\u001b[0m, in \u001b[0;36mHyperparameterSearchManager.__init__\u001b[1;34m(self, model_class, data_manager, params, loss_fn, optimizer_factory, exp_name, accuracy_mesure, num_epoch)\u001b[0m\n\u001b[0;32m     <a href='file:///c%3A/Users/gaeta/OneDrive/Documents/Developpement/Python/Forage/Projet/HappyWhale/src/HyperparameterSearch.py?line=40'>41</a>\u001b[0m model \u001b[39m=\u001b[39m HappyWhaleModel(\u001b[39m\"\u001b[39m\u001b[39mtf_efficientnet_b0_ns\u001b[39m\u001b[39m\"\u001b[39m, \u001b[39m512\u001b[39m, num_class\u001b[39m=\u001b[39m\u001b[39m20\u001b[39m, arcface_config\u001b[39m=\u001b[39marcFace_config)\n\u001b[0;32m     <a href='file:///c%3A/Users/gaeta/OneDrive/Documents/Developpement/Python/Forage/Projet/HappyWhale/src/HyperparameterSearch.py?line=41'>42</a>\u001b[0m train_manager \u001b[39m=\u001b[39m ModelTrainTestManager(model, data_manager, loss_fn, optimizer_factory, exp_name, accuracy_mesure, lr, use_cuda\u001b[39m=\u001b[39m\u001b[39mTrue\u001b[39;00m, verbose\u001b[39m=\u001b[39m\u001b[39mFalse\u001b[39;00m)\n\u001b[1;32m---> <a href='file:///c%3A/Users/gaeta/OneDrive/Documents/Developpement/Python/Forage/Projet/HappyWhale/src/HyperparameterSearch.py?line=42'>43</a>\u001b[0m train_manager\u001b[39m.\u001b[39;49mtrain(num_epoch)\n\u001b[0;32m     <a href='file:///c%3A/Users/gaeta/OneDrive/Documents/Developpement/Python/Forage/Projet/HappyWhale/src/HyperparameterSearch.py?line=44'>45</a>\u001b[0m val_loss \u001b[39m=\u001b[39m train_manager\u001b[39m.\u001b[39mmetric_values[\u001b[39m\"\u001b[39m\u001b[39mval_loss\u001b[39m\u001b[39m\"\u001b[39m][\u001b[39m-\u001b[39m\u001b[39m1\u001b[39m]\n\u001b[0;32m     <a href='file:///c%3A/Users/gaeta/OneDrive/Documents/Developpement/Python/Forage/Projet/HappyWhale/src/HyperparameterSearch.py?line=45'>46</a>\u001b[0m val_acc \u001b[39m=\u001b[39m train_manager\u001b[39m.\u001b[39mmetric_values[\u001b[39m\"\u001b[39m\u001b[39mval_acc\u001b[39m\u001b[39m\"\u001b[39m][\u001b[39m-\u001b[39m\u001b[39m1\u001b[39m] \u001b[39m# we sort model based on final val accuracy\u001b[39;00m\n",
            "File \u001b[1;32mc:\\Users\\gaeta\\OneDrive\\Documents\\Developpement\\Python\\Forage\\Projet\\HappyWhale\\src\\ModelTrainTestManager.py:123\u001b[0m, in \u001b[0;36mModelTrainTestManager.train\u001b[1;34m(self, num_epochs, start_epoch, metric_values)\u001b[0m\n\u001b[0;32m    <a href='file:///c%3A/Users/gaeta/OneDrive/Documents/Developpement/Python/Forage/Projet/HappyWhale/src/ModelTrainTestManager.py?line=119'>120</a>\u001b[0m loss\u001b[39m.\u001b[39mbackward()\n\u001b[0;32m    <a href='file:///c%3A/Users/gaeta/OneDrive/Documents/Developpement/Python/Forage/Projet/HappyWhale/src/ModelTrainTestManager.py?line=121'>122</a>\u001b[0m \u001b[39m# updates the weights using gradient descent                    \u001b[39;00m\n\u001b[1;32m--> <a href='file:///c%3A/Users/gaeta/OneDrive/Documents/Developpement/Python/Forage/Projet/HappyWhale/src/ModelTrainTestManager.py?line=122'>123</a>\u001b[0m \u001b[39mself\u001b[39;49m\u001b[39m.\u001b[39;49moptimizer\u001b[39m.\u001b[39;49mstep()\n\u001b[0;32m    <a href='file:///c%3A/Users/gaeta/OneDrive/Documents/Developpement/Python/Forage/Projet/HappyWhale/src/ModelTrainTestManager.py?line=124'>125</a>\u001b[0m \u001b[39m# Save losses for plotting purposes\u001b[39;00m\n\u001b[0;32m    <a href='file:///c%3A/Users/gaeta/OneDrive/Documents/Developpement/Python/Forage/Projet/HappyWhale/src/ModelTrainTestManager.py?line=125'>126</a>\u001b[0m train_losses\u001b[39m.\u001b[39mappend(loss\u001b[39m.\u001b[39mitem())\n",
            "File \u001b[1;32m~\\anaconda3\\envs\\forage\\lib\\site-packages\\torch\\optim\\optimizer.py:88\u001b[0m, in \u001b[0;36mOptimizer._hook_for_profile.<locals>.profile_hook_step.<locals>.wrapper\u001b[1;34m(*args, **kwargs)\u001b[0m\n\u001b[0;32m     <a href='file:///c%3A/Users/gaeta/anaconda3/envs/forage/lib/site-packages/torch/optim/optimizer.py?line=85'>86</a>\u001b[0m profile_name \u001b[39m=\u001b[39m \u001b[39m\"\u001b[39m\u001b[39mOptimizer.step#\u001b[39m\u001b[39m{}\u001b[39;00m\u001b[39m.step\u001b[39m\u001b[39m\"\u001b[39m\u001b[39m.\u001b[39mformat(obj\u001b[39m.\u001b[39m\u001b[39m__class__\u001b[39m\u001b[39m.\u001b[39m\u001b[39m__name__\u001b[39m)\n\u001b[0;32m     <a href='file:///c%3A/Users/gaeta/anaconda3/envs/forage/lib/site-packages/torch/optim/optimizer.py?line=86'>87</a>\u001b[0m \u001b[39mwith\u001b[39;00m torch\u001b[39m.\u001b[39mautograd\u001b[39m.\u001b[39mprofiler\u001b[39m.\u001b[39mrecord_function(profile_name):\n\u001b[1;32m---> <a href='file:///c%3A/Users/gaeta/anaconda3/envs/forage/lib/site-packages/torch/optim/optimizer.py?line=87'>88</a>\u001b[0m     \u001b[39mreturn\u001b[39;00m func(\u001b[39m*\u001b[39margs, \u001b[39m*\u001b[39m\u001b[39m*\u001b[39mkwargs)\n",
            "File \u001b[1;32m~\\anaconda3\\envs\\forage\\lib\\site-packages\\torch\\autograd\\grad_mode.py:27\u001b[0m, in \u001b[0;36m_DecoratorContextManager.__call__.<locals>.decorate_context\u001b[1;34m(*args, **kwargs)\u001b[0m\n\u001b[0;32m     <a href='file:///c%3A/Users/gaeta/anaconda3/envs/forage/lib/site-packages/torch/autograd/grad_mode.py?line=23'>24</a>\u001b[0m \u001b[39m@functools\u001b[39m\u001b[39m.\u001b[39mwraps(func)\n\u001b[0;32m     <a href='file:///c%3A/Users/gaeta/anaconda3/envs/forage/lib/site-packages/torch/autograd/grad_mode.py?line=24'>25</a>\u001b[0m \u001b[39mdef\u001b[39;00m \u001b[39mdecorate_context\u001b[39m(\u001b[39m*\u001b[39margs, \u001b[39m*\u001b[39m\u001b[39m*\u001b[39mkwargs):\n\u001b[0;32m     <a href='file:///c%3A/Users/gaeta/anaconda3/envs/forage/lib/site-packages/torch/autograd/grad_mode.py?line=25'>26</a>\u001b[0m     \u001b[39mwith\u001b[39;00m \u001b[39mself\u001b[39m\u001b[39m.\u001b[39mclone():\n\u001b[1;32m---> <a href='file:///c%3A/Users/gaeta/anaconda3/envs/forage/lib/site-packages/torch/autograd/grad_mode.py?line=26'>27</a>\u001b[0m         \u001b[39mreturn\u001b[39;00m func(\u001b[39m*\u001b[39margs, \u001b[39m*\u001b[39m\u001b[39m*\u001b[39mkwargs)\n",
            "File \u001b[1;32m~\\anaconda3\\envs\\forage\\lib\\site-packages\\torch\\optim\\adam.py:141\u001b[0m, in \u001b[0;36mAdam.step\u001b[1;34m(self, closure)\u001b[0m\n\u001b[0;32m    <a href='file:///c%3A/Users/gaeta/anaconda3/envs/forage/lib/site-packages/torch/optim/adam.py?line=137'>138</a>\u001b[0m             \u001b[39m# record the step after step update\u001b[39;00m\n\u001b[0;32m    <a href='file:///c%3A/Users/gaeta/anaconda3/envs/forage/lib/site-packages/torch/optim/adam.py?line=138'>139</a>\u001b[0m             state_steps\u001b[39m.\u001b[39mappend(state[\u001b[39m'\u001b[39m\u001b[39mstep\u001b[39m\u001b[39m'\u001b[39m])\n\u001b[1;32m--> <a href='file:///c%3A/Users/gaeta/anaconda3/envs/forage/lib/site-packages/torch/optim/adam.py?line=140'>141</a>\u001b[0m     F\u001b[39m.\u001b[39;49madam(params_with_grad,\n\u001b[0;32m    <a href='file:///c%3A/Users/gaeta/anaconda3/envs/forage/lib/site-packages/torch/optim/adam.py?line=141'>142</a>\u001b[0m            grads,\n\u001b[0;32m    <a href='file:///c%3A/Users/gaeta/anaconda3/envs/forage/lib/site-packages/torch/optim/adam.py?line=142'>143</a>\u001b[0m            exp_avgs,\n\u001b[0;32m    <a href='file:///c%3A/Users/gaeta/anaconda3/envs/forage/lib/site-packages/torch/optim/adam.py?line=143'>144</a>\u001b[0m            exp_avg_sqs,\n\u001b[0;32m    <a href='file:///c%3A/Users/gaeta/anaconda3/envs/forage/lib/site-packages/torch/optim/adam.py?line=144'>145</a>\u001b[0m            max_exp_avg_sqs,\n\u001b[0;32m    <a href='file:///c%3A/Users/gaeta/anaconda3/envs/forage/lib/site-packages/torch/optim/adam.py?line=145'>146</a>\u001b[0m            state_steps,\n\u001b[0;32m    <a href='file:///c%3A/Users/gaeta/anaconda3/envs/forage/lib/site-packages/torch/optim/adam.py?line=146'>147</a>\u001b[0m            amsgrad\u001b[39m=\u001b[39;49mgroup[\u001b[39m'\u001b[39;49m\u001b[39mamsgrad\u001b[39;49m\u001b[39m'\u001b[39;49m],\n\u001b[0;32m    <a href='file:///c%3A/Users/gaeta/anaconda3/envs/forage/lib/site-packages/torch/optim/adam.py?line=147'>148</a>\u001b[0m            beta1\u001b[39m=\u001b[39;49mbeta1,\n\u001b[0;32m    <a href='file:///c%3A/Users/gaeta/anaconda3/envs/forage/lib/site-packages/torch/optim/adam.py?line=148'>149</a>\u001b[0m            beta2\u001b[39m=\u001b[39;49mbeta2,\n\u001b[0;32m    <a href='file:///c%3A/Users/gaeta/anaconda3/envs/forage/lib/site-packages/torch/optim/adam.py?line=149'>150</a>\u001b[0m            lr\u001b[39m=\u001b[39;49mgroup[\u001b[39m'\u001b[39;49m\u001b[39mlr\u001b[39;49m\u001b[39m'\u001b[39;49m],\n\u001b[0;32m    <a href='file:///c%3A/Users/gaeta/anaconda3/envs/forage/lib/site-packages/torch/optim/adam.py?line=150'>151</a>\u001b[0m            weight_decay\u001b[39m=\u001b[39;49mgroup[\u001b[39m'\u001b[39;49m\u001b[39mweight_decay\u001b[39;49m\u001b[39m'\u001b[39;49m],\n\u001b[0;32m    <a href='file:///c%3A/Users/gaeta/anaconda3/envs/forage/lib/site-packages/torch/optim/adam.py?line=151'>152</a>\u001b[0m            eps\u001b[39m=\u001b[39;49mgroup[\u001b[39m'\u001b[39;49m\u001b[39meps\u001b[39;49m\u001b[39m'\u001b[39;49m],\n\u001b[0;32m    <a href='file:///c%3A/Users/gaeta/anaconda3/envs/forage/lib/site-packages/torch/optim/adam.py?line=152'>153</a>\u001b[0m            maximize\u001b[39m=\u001b[39;49mgroup[\u001b[39m'\u001b[39;49m\u001b[39mmaximize\u001b[39;49m\u001b[39m'\u001b[39;49m])\n\u001b[0;32m    <a href='file:///c%3A/Users/gaeta/anaconda3/envs/forage/lib/site-packages/torch/optim/adam.py?line=153'>154</a>\u001b[0m \u001b[39mreturn\u001b[39;00m loss\n",
            "File \u001b[1;32m~\\anaconda3\\envs\\forage\\lib\\site-packages\\torch\\optim\\_functional.py:97\u001b[0m, in \u001b[0;36madam\u001b[1;34m(params, grads, exp_avgs, exp_avg_sqs, max_exp_avg_sqs, state_steps, amsgrad, beta1, beta2, lr, weight_decay, eps, maximize)\u001b[0m\n\u001b[0;32m     <a href='file:///c%3A/Users/gaeta/anaconda3/envs/forage/lib/site-packages/torch/optim/_functional.py?line=93'>94</a>\u001b[0m     grad \u001b[39m=\u001b[39m grad\u001b[39m.\u001b[39madd(param, alpha\u001b[39m=\u001b[39mweight_decay)\n\u001b[0;32m     <a href='file:///c%3A/Users/gaeta/anaconda3/envs/forage/lib/site-packages/torch/optim/_functional.py?line=95'>96</a>\u001b[0m \u001b[39m# Decay the first and second moment running average coefficient\u001b[39;00m\n\u001b[1;32m---> <a href='file:///c%3A/Users/gaeta/anaconda3/envs/forage/lib/site-packages/torch/optim/_functional.py?line=96'>97</a>\u001b[0m exp_avg\u001b[39m.\u001b[39;49mmul_(beta1)\u001b[39m.\u001b[39;49madd_(grad, alpha\u001b[39m=\u001b[39;49m\u001b[39m1\u001b[39;49m \u001b[39m-\u001b[39;49m beta1)\n\u001b[0;32m     <a href='file:///c%3A/Users/gaeta/anaconda3/envs/forage/lib/site-packages/torch/optim/_functional.py?line=97'>98</a>\u001b[0m exp_avg_sq\u001b[39m.\u001b[39mmul_(beta2)\u001b[39m.\u001b[39maddcmul_(grad, grad\u001b[39m.\u001b[39mconj(), value\u001b[39m=\u001b[39m\u001b[39m1\u001b[39m \u001b[39m-\u001b[39m beta2)\n\u001b[0;32m     <a href='file:///c%3A/Users/gaeta/anaconda3/envs/forage/lib/site-packages/torch/optim/_functional.py?line=98'>99</a>\u001b[0m \u001b[39mif\u001b[39;00m amsgrad:\n\u001b[0;32m    <a href='file:///c%3A/Users/gaeta/anaconda3/envs/forage/lib/site-packages/torch/optim/_functional.py?line=99'>100</a>\u001b[0m     \u001b[39m# Maintains the maximum of all 2nd moment running avg. till now\u001b[39;00m\n",
            "\u001b[1;31mKeyboardInterrupt\u001b[0m: "
          ]
        }
      ],
      "source": [
        "from src.HyperparameterSearch import HyperparameterSearchManager\n",
        "\n",
        "params = {\n",
        "    \"learning_rate\": [0.1,0.01,0.001],\n",
        "    \"arcface_s\": [20],\n",
        "    \"arcface_m\": [0.4],\n",
        "}\n",
        "\n",
        "hs = HyperparameterSearchManager(HappyWhaleModel,\n",
        "                params=params,\n",
        "                data_manager = data_manager,\n",
        "                loss_fn=nn.CrossEntropyLoss(),\n",
        "                optimizer_factory=optimizer_factory,\n",
        "                exp_name=\"hyperparameter_search\",\n",
        "                num_epoch=3,)\n",
        "\n",
        "print(hs.get_best_param())"
      ]
    },
    {
      "cell_type": "code",
      "execution_count": null,
      "metadata": {},
      "outputs": [
        {
          "name": "stdout",
          "output_type": "stream",
          "text": [
            "Accuracy on the test set: 0.000 %\n"
          ]
        },
        {
          "data": {
            "image/png": "[encoded data removed]",
            "text/plain": [
              "<Figure size 720x360 with 2 Axes>"
            ]
          },
          "metadata": {
            "needs_background": "light"
          },
          "output_type": "display_data"
        }
      ],
      "source": [
        "model = hs.get_best_model()\n",
        "hs.evaluate_best_on_test_set()\n",
        "model.save(exp_name)"
      ]
    },
    {
      "cell_type": "markdown",
      "metadata": {
        "id": "4-YJCOZ3yNdK"
      },
      "source": []
    }
  ],
  "metadata": {
    "accelerator": "GPU",
    "colab": {
      "collapsed_sections": [],
      "name": "HappyWhale.ipynb",
      "provenance": []
    },
    "interpreter": {
      "hash": "047959887fc7b401bc223e3aa5310c3a590340a33f47823b1d5749438031b6f9"
    },
    "kernelspec": {
      "display_name": "Python 3.9.7 64-bit ('.venv_ift780': venv)",
      "language": "python",
      "name": "python3"
    },
    "language_info": {
      "codemirror_mode": {
        "name": "ipython",
        "version": 3
      },
      "file_extension": ".py",
      "mimetype": "text/x-python",
      "name": "python",
      "nbconvert_exporter": "python",
      "pygments_lexer": "ipython3",
      "version": "3.9.12"
    }
  },
  "nbformat": 4,
  "nbformat_minor": 0
}
