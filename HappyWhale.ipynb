{
 "cells": [
  {
   "cell_type": "code",
   "execution_count": 9,
   "metadata": {},
   "outputs": [
    {
     "name": "stdout",
     "output_type": "stream",
     "text": [
      "The autoreload extension is already loaded. To reload it, use:\n",
      "  %reload_ext autoreload\n"
     ]
    },
    {
     "name": "stderr",
     "output_type": "stream",
     "text": [
      "[autoreload of src.DataManager failed: Traceback (most recent call last):\n",
      "  File \"C:\\Users\\gaeta\\anaconda3\\envs\\forage\\lib\\site-packages\\IPython\\extensions\\autoreload.py\", line 257, in check\n",
      "    superreload(m, reload, self.old_objects)\n",
      "  File \"C:\\Users\\gaeta\\anaconda3\\envs\\forage\\lib\\site-packages\\IPython\\extensions\\autoreload.py\", line 455, in superreload\n",
      "    module = reload(module)\n",
      "  File \"C:\\Users\\gaeta\\anaconda3\\envs\\forage\\lib\\importlib\\__init__.py\", line 169, in reload\n",
      "    _bootstrap._exec(spec, module)\n",
      "  File \"<frozen importlib._bootstrap>\", line 613, in _exec\n",
      "  File \"<frozen importlib._bootstrap_external>\", line 850, in exec_module\n",
      "  File \"<frozen importlib._bootstrap>\", line 228, in _call_with_frames_removed\n",
      "  File \"c:\\Users\\gaeta\\OneDrive\\Documents\\Developpement\\Python\\Forage\\Projet\\HappyWhale\\src\\DataManager.py\", line 8, in <module>\n",
      "    from src.transformation import Transformation\n",
      "  File \"c:\\Users\\gaeta\\OneDrive\\Documents\\Developpement\\Python\\Forage\\Projet\\HappyWhale\\src\\transformation.py\", line 20, in <module>\n",
      "    import imutils\n",
      "ModuleNotFoundError: No module named 'imutils'\n",
      "]\n"
     ]
    }
   ],
   "source": [
    "try:\n",
    "  from google.colab import drive\n",
    "  drive.mount('/content/drive')\n",
    "  !mkdir src\n",
    "  !cp -r drive/MyDrive/IFT780/HappyWhale/src/* src/\n",
    "  !mkdir data\n",
    "  !cp -r drive/MyDrive/IFT780/HappyWhale/data/* data/\n",
    "  IN_COLAB = True\n",
    "except:\n",
    "  IN_COLAB = False\n",
    "  #%pip install -r requirements.txt\n",
    "\n",
    "# Pour automatiquement recharger les modules externes\n",
    "# voir http://stackoverflow.com/questions/1907993/autoreload-of-modules-in-ipython\n",
    "%load_ext autoreload\n",
    "%autoreload 2"
   ]
  },
  {
   "cell_type": "markdown",
   "metadata": {},
   "source": [
    "# HappyWhale Challenge - Team WhalePlayed\n",
    "\n",
    "This notebook presents the work done by Gaétan Rey, Julien Levarlet and Timothée Wright, as part of the challenge https://www.kaggle.com/competitions/happy-whale-and-dolphin/overview ."
   ]
  },
  {
   "cell_type": "markdown",
   "metadata": {},
   "source": [
    "Imports :"
   ]
  },
  {
   "cell_type": "code",
   "execution_count": 10,
   "metadata": {},
   "outputs": [],
   "source": [
    "import torch.nn as nn\n",
    "import torch\n",
    "from src.ModelTrainTestManager import ModelTrainTestManager, optimizer_setup\n",
    "from src.DataManager import DataManager\n",
    "from src.Models.ResNet import ResNet"
   ]
  },
  {
   "cell_type": "markdown",
   "metadata": {},
   "source": [
    "Parameters for the data :"
   ]
  },
  {
   "cell_type": "code",
   "execution_count": 11,
   "metadata": {},
   "outputs": [],
   "source": [
    "data_csv = \"data/common_train.csv\"\n",
    "dataFolderPath = \"data/common_cropped_train_imgs\""
   ]
  },
  {
   "cell_type": "markdown",
   "metadata": {},
   "source": [
    "Parameters for the training :"
   ]
  },
  {
   "cell_type": "code",
   "execution_count": 12,
   "metadata": {},
   "outputs": [],
   "source": [
    "batch_size = 3\n",
    "learning_rate = 0.01\n",
    "optimizer_factory = optimizer_setup(torch.optim.Adam, lr=learning_rate)\n",
    "\n",
    "test_percentage = 0.2\n",
    "val_percentage = 0.2\n",
    "\n",
    "exp_name = \"HappyWhale\""
   ]
  },
  {
   "cell_type": "markdown",
   "metadata": {},
   "source": [
    "Parameters for the model :"
   ]
  },
  {
   "cell_type": "code",
   "execution_count": 13,
   "metadata": {},
   "outputs": [],
   "source": [
    "num_classes=20\n",
    "in_channels=3\n",
    "depth=3\n",
    "option=\"small\"\n",
    "size=256/2\n",
    "\n",
    "model = ResNet(num_classes, in_channels, depth, option, size, use_arcface=False)"
   ]
  },
  {
   "cell_type": "code",
   "execution_count": 16,
   "metadata": {},
   "outputs": [
    {
     "name": "stdout",
     "output_type": "stream",
     "text": [
      "                image  individual_id\n",
      "0  000a8f2d5c316a.jpg             12\n",
      "1  001001f099519f.jpg              2\n",
      "2  00144776eb476d.jpg             12\n",
      "3  0024057bbc89a4.jpg              1\n",
      "4  0028f6fa123686.jpg              9\n",
      "Dataset size : 1000\n",
      "Size of validation set : 160\n",
      "Size of test set : 200\n",
      "Size of train set : 640\n"
     ]
    },
    {
     "ename": "TypeError",
     "evalue": "__init__() got an unexpected keyword argument 'img_size'",
     "output_type": "error",
     "traceback": [
      "\u001b[1;31m---------------------------------------------------------------------------\u001b[0m",
      "\u001b[1;31mTypeError\u001b[0m                                 Traceback (most recent call last)",
      "\u001b[1;32mc:\\Users\\gaeta\\OneDrive\\Documents\\Developpement\\Python\\Forage\\Projet\\HappyWhale\\happywhale.ipynb Cell 11'\u001b[0m in \u001b[0;36m<cell line: 1>\u001b[1;34m()\u001b[0m\n\u001b[1;32m----> <a href='vscode-notebook-cell:/c%3A/Users/gaeta/OneDrive/Documents/Developpement/Python/Forage/Projet/HappyWhale/happywhale.ipynb#ch0000010?line=0'>1</a>\u001b[0m data_manager \u001b[39m=\u001b[39m DataManager(data_csv, dataFolderPath, batch_size,test_percentage, val_percentage, verbose\u001b[39m=\u001b[39;49m\u001b[39mTrue\u001b[39;49;00m,img_size\u001b[39m=\u001b[39;49msize\u001b[39m*\u001b[39;49m\u001b[39m2\u001b[39;49m)\n\u001b[0;32m      <a href='vscode-notebook-cell:/c%3A/Users/gaeta/OneDrive/Documents/Developpement/Python/Forage/Projet/HappyWhale/happywhale.ipynb#ch0000010?line=2'>3</a>\u001b[0m model_trainer \u001b[39m=\u001b[39m ModelTrainTestManager(model\u001b[39m=\u001b[39mmodel,\n\u001b[0;32m      <a href='vscode-notebook-cell:/c%3A/Users/gaeta/OneDrive/Documents/Developpement/Python/Forage/Projet/HappyWhale/happywhale.ipynb#ch0000010?line=3'>4</a>\u001b[0m                                         data_manager \u001b[39m=\u001b[39m data_manager,\n\u001b[0;32m      <a href='vscode-notebook-cell:/c%3A/Users/gaeta/OneDrive/Documents/Developpement/Python/Forage/Projet/HappyWhale/happywhale.ipynb#ch0000010?line=4'>5</a>\u001b[0m                                         loss_fn\u001b[39m=\u001b[39mnn\u001b[39m.\u001b[39mCrossEntropyLoss(),\n\u001b[1;32m   (...)\u001b[0m\n\u001b[0;32m      <a href='vscode-notebook-cell:/c%3A/Users/gaeta/OneDrive/Documents/Developpement/Python/Forage/Projet/HappyWhale/happywhale.ipynb#ch0000010?line=7'>8</a>\u001b[0m                                         learning_rate\u001b[39m=\u001b[39mlearning_rate,\n\u001b[0;32m      <a href='vscode-notebook-cell:/c%3A/Users/gaeta/OneDrive/Documents/Developpement/Python/Forage/Projet/HappyWhale/happywhale.ipynb#ch0000010?line=8'>9</a>\u001b[0m                                         use_cuda\u001b[39m=\u001b[39m\u001b[39mTrue\u001b[39;00m)\n",
      "File \u001b[1;32mc:\\Users\\gaeta\\OneDrive\\Documents\\Developpement\\Python\\Forage\\Projet\\HappyWhale\\src\\DataManager.py:61\u001b[0m, in \u001b[0;36m__init__\u001b[1;34m(self, annotations_file, dataFolderPath, batch_size, test_percentage, val_percentage, verbose, **kwargs)\u001b[0m\n\u001b[0;32m     <a href='file:///c%3A/Users/gaeta/OneDrive/Documents/Developpement/Python/Forage/Projet/HappyWhale/src/DataManager.py?line=57'>58</a>\u001b[0m # data augmentation class\n\u001b[0;32m     <a href='file:///c%3A/Users/gaeta/OneDrive/Documents/Developpement/Python/Forage/Projet/HappyWhale/src/DataManager.py?line=58'>59</a>\u001b[0m tranform = Transformation().apply_transformations\n\u001b[1;32m---> <a href='file:///c%3A/Users/gaeta/OneDrive/Documents/Developpement/Python/Forage/Projet/HappyWhale/src/DataManager.py?line=60'>61</a>\u001b[0m # creates Datasets and DataLoaders\n\u001b[0;32m     <a href='file:///c%3A/Users/gaeta/OneDrive/Documents/Developpement/Python/Forage/Projet/HappyWhale/src/DataManager.py?line=61'>62</a>\u001b[0m self.train_set = WhaleDataset(df_train, dataFolderPath, transform_proba=transform_proba, img_size=img_size, transform=tranform)\n\u001b[0;32m     <a href='file:///c%3A/Users/gaeta/OneDrive/Documents/Developpement/Python/Forage/Projet/HappyWhale/src/DataManager.py?line=62'>63</a>\u001b[0m self.val_set = WhaleDataset(df_val, dataFolderPath, transform_proba=transform_proba, img_size=img_size, transform=tranform)\n",
      "\u001b[1;31mTypeError\u001b[0m: __init__() got an unexpected keyword argument 'img_size'"
     ]
    }
   ],
   "source": [
    "data_manager = DataManager(data_csv, dataFolderPath, batch_size,test_percentage, val_percentage, verbose=True)\n",
    "\n",
    "model_trainer = ModelTrainTestManager(model=model,\n",
    "                                        data_manager = data_manager,\n",
    "                                        loss_fn=nn.CrossEntropyLoss(),\n",
    "                                        optimizer_factory=optimizer_factory,\n",
    "                                        exp_name = exp_name ,\n",
    "                                        learning_rate=learning_rate,\n",
    "                                        use_cuda=True)"
   ]
  },
  {
   "cell_type": "code",
   "execution_count": 15,
   "metadata": {},
   "outputs": [
    {
     "name": "stderr",
     "output_type": "stream",
     "text": [
      "  0%|          | 0/214 [00:00<?, ?it/s]"
     ]
    },
    {
     "name": "stdout",
     "output_type": "stream",
     "text": [
      "Epoch: 1 of 10\n"
     ]
    },
    {
     "name": "stderr",
     "output_type": "stream",
     "text": [
      "  0%|          | 0/214 [00:00<?, ?it/s]\n"
     ]
    },
    {
     "ename": "RuntimeError",
     "evalue": "mat1 and mat2 shapes cannot be multiplied (3x65536 and 262144x20)",
     "output_type": "error",
     "traceback": [
      "\u001b[1;31m---------------------------------------------------------------------------\u001b[0m",
      "\u001b[1;31mRuntimeError\u001b[0m                              Traceback (most recent call last)",
      "\u001b[1;32mc:\\Users\\gaeta\\OneDrive\\Documents\\Developpement\\Python\\Forage\\Projet\\HappyWhale\\happywhale.ipynb Cell 12'\u001b[0m in \u001b[0;36m<cell line: 2>\u001b[1;34m()\u001b[0m\n\u001b[0;32m      <a href='vscode-notebook-cell:/c%3A/Users/gaeta/OneDrive/Documents/Developpement/Python/Forage/Projet/HappyWhale/happywhale.ipynb#ch0000011?line=0'>1</a>\u001b[0m epoch\u001b[39m=\u001b[39m\u001b[39m10\u001b[39m\n\u001b[1;32m----> <a href='vscode-notebook-cell:/c%3A/Users/gaeta/OneDrive/Documents/Developpement/Python/Forage/Projet/HappyWhale/happywhale.ipynb#ch0000011?line=1'>2</a>\u001b[0m model_trainer\u001b[39m.\u001b[39;49mtrain(epoch)\n",
      "File \u001b[1;32mc:\\Users\\gaeta\\OneDrive\\Documents\\Developpement\\Python\\Forage\\Projet\\HappyWhale\\src\\ModelTrainTestManager.py:112\u001b[0m, in \u001b[0;36mModelTrainTestManager.train\u001b[1;34m(self, num_epochs, start_epoch, metric_values)\u001b[0m\n\u001b[0;32m    <a href='file:///c%3A/Users/gaeta/OneDrive/Documents/Developpement/Python/Forage/Projet/HappyWhale/src/ModelTrainTestManager.py?line=108'>109</a>\u001b[0m \u001b[39mself\u001b[39m\u001b[39m.\u001b[39moptimizer\u001b[39m.\u001b[39mzero_grad()\n\u001b[0;32m    <a href='file:///c%3A/Users/gaeta/OneDrive/Documents/Developpement/Python/Forage/Projet/HappyWhale/src/ModelTrainTestManager.py?line=110'>111</a>\u001b[0m \u001b[39m# forward pass\u001b[39;00m\n\u001b[1;32m--> <a href='file:///c%3A/Users/gaeta/OneDrive/Documents/Developpement/Python/Forage/Projet/HappyWhale/src/ModelTrainTestManager.py?line=111'>112</a>\u001b[0m train_outputs \u001b[39m=\u001b[39m \u001b[39mself\u001b[39;49m\u001b[39m.\u001b[39;49mmodel(train_inputs)\n\u001b[0;32m    <a href='file:///c%3A/Users/gaeta/OneDrive/Documents/Developpement/Python/Forage/Projet/HappyWhale/src/ModelTrainTestManager.py?line=112'>113</a>\u001b[0m \u001b[39m# computes loss using loss function loss_fn\u001b[39;00m\n\u001b[0;32m    <a href='file:///c%3A/Users/gaeta/OneDrive/Documents/Developpement/Python/Forage/Projet/HappyWhale/src/ModelTrainTestManager.py?line=113'>114</a>\u001b[0m loss \u001b[39m=\u001b[39m \u001b[39mself\u001b[39m\u001b[39m.\u001b[39mloss_fn(train_outputs, train_labels)\n",
      "File \u001b[1;32m~\\anaconda3\\envs\\forage\\lib\\site-packages\\torch\\nn\\modules\\module.py:1110\u001b[0m, in \u001b[0;36mModule._call_impl\u001b[1;34m(self, *input, **kwargs)\u001b[0m\n\u001b[0;32m   <a href='file:///c%3A/Users/gaeta/anaconda3/envs/forage/lib/site-packages/torch/nn/modules/module.py?line=1105'>1106</a>\u001b[0m \u001b[39m# If we don't have any hooks, we want to skip the rest of the logic in\u001b[39;00m\n\u001b[0;32m   <a href='file:///c%3A/Users/gaeta/anaconda3/envs/forage/lib/site-packages/torch/nn/modules/module.py?line=1106'>1107</a>\u001b[0m \u001b[39m# this function, and just call forward.\u001b[39;00m\n\u001b[0;32m   <a href='file:///c%3A/Users/gaeta/anaconda3/envs/forage/lib/site-packages/torch/nn/modules/module.py?line=1107'>1108</a>\u001b[0m \u001b[39mif\u001b[39;00m \u001b[39mnot\u001b[39;00m (\u001b[39mself\u001b[39m\u001b[39m.\u001b[39m_backward_hooks \u001b[39mor\u001b[39;00m \u001b[39mself\u001b[39m\u001b[39m.\u001b[39m_forward_hooks \u001b[39mor\u001b[39;00m \u001b[39mself\u001b[39m\u001b[39m.\u001b[39m_forward_pre_hooks \u001b[39mor\u001b[39;00m _global_backward_hooks\n\u001b[0;32m   <a href='file:///c%3A/Users/gaeta/anaconda3/envs/forage/lib/site-packages/torch/nn/modules/module.py?line=1108'>1109</a>\u001b[0m         \u001b[39mor\u001b[39;00m _global_forward_hooks \u001b[39mor\u001b[39;00m _global_forward_pre_hooks):\n\u001b[1;32m-> <a href='file:///c%3A/Users/gaeta/anaconda3/envs/forage/lib/site-packages/torch/nn/modules/module.py?line=1109'>1110</a>\u001b[0m     \u001b[39mreturn\u001b[39;00m forward_call(\u001b[39m*\u001b[39m\u001b[39minput\u001b[39m, \u001b[39m*\u001b[39m\u001b[39m*\u001b[39mkwargs)\n\u001b[0;32m   <a href='file:///c%3A/Users/gaeta/anaconda3/envs/forage/lib/site-packages/torch/nn/modules/module.py?line=1110'>1111</a>\u001b[0m \u001b[39m# Do not call functions when jit is used\u001b[39;00m\n\u001b[0;32m   <a href='file:///c%3A/Users/gaeta/anaconda3/envs/forage/lib/site-packages/torch/nn/modules/module.py?line=1111'>1112</a>\u001b[0m full_backward_hooks, non_full_backward_hooks \u001b[39m=\u001b[39m [], []\n",
      "File \u001b[1;32mc:\\Users\\gaeta\\OneDrive\\Documents\\Developpement\\Python\\Forage\\Projet\\HappyWhale\\src\\Models\\ResNet.py:138\u001b[0m, in \u001b[0;36mResNet.forward\u001b[1;34m(self, x)\u001b[0m\n\u001b[0;32m    <a href='file:///c%3A/Users/gaeta/OneDrive/Documents/Developpement/Python/Forage/Projet/HappyWhale/src/Models/ResNet.py?line=135'>136</a>\u001b[0m out \u001b[39m=\u001b[39m \u001b[39mself\u001b[39m\u001b[39m.\u001b[39mavgpool(out)\n\u001b[0;32m    <a href='file:///c%3A/Users/gaeta/OneDrive/Documents/Developpement/Python/Forage/Projet/HappyWhale/src/Models/ResNet.py?line=136'>137</a>\u001b[0m out\u001b[39m=\u001b[39mout\u001b[39m.\u001b[39mflatten(start_dim\u001b[39m=\u001b[39m\u001b[39m1\u001b[39m)\n\u001b[1;32m--> <a href='file:///c%3A/Users/gaeta/OneDrive/Documents/Developpement/Python/Forage/Projet/HappyWhale/src/Models/ResNet.py?line=137'>138</a>\u001b[0m out \u001b[39m=\u001b[39m \u001b[39mself\u001b[39;49m\u001b[39m.\u001b[39;49mfc(out)\n\u001b[0;32m    <a href='file:///c%3A/Users/gaeta/OneDrive/Documents/Developpement/Python/Forage/Projet/HappyWhale/src/Models/ResNet.py?line=138'>139</a>\u001b[0m out\u001b[39m=\u001b[39m\u001b[39mself\u001b[39m\u001b[39m.\u001b[39msoftmax(out)\n\u001b[0;32m    <a href='file:///c%3A/Users/gaeta/OneDrive/Documents/Developpement/Python/Forage/Projet/HappyWhale/src/Models/ResNet.py?line=139'>140</a>\u001b[0m \u001b[39mreturn\u001b[39;00m out\n",
      "File \u001b[1;32m~\\anaconda3\\envs\\forage\\lib\\site-packages\\torch\\nn\\modules\\module.py:1110\u001b[0m, in \u001b[0;36mModule._call_impl\u001b[1;34m(self, *input, **kwargs)\u001b[0m\n\u001b[0;32m   <a href='file:///c%3A/Users/gaeta/anaconda3/envs/forage/lib/site-packages/torch/nn/modules/module.py?line=1105'>1106</a>\u001b[0m \u001b[39m# If we don't have any hooks, we want to skip the rest of the logic in\u001b[39;00m\n\u001b[0;32m   <a href='file:///c%3A/Users/gaeta/anaconda3/envs/forage/lib/site-packages/torch/nn/modules/module.py?line=1106'>1107</a>\u001b[0m \u001b[39m# this function, and just call forward.\u001b[39;00m\n\u001b[0;32m   <a href='file:///c%3A/Users/gaeta/anaconda3/envs/forage/lib/site-packages/torch/nn/modules/module.py?line=1107'>1108</a>\u001b[0m \u001b[39mif\u001b[39;00m \u001b[39mnot\u001b[39;00m (\u001b[39mself\u001b[39m\u001b[39m.\u001b[39m_backward_hooks \u001b[39mor\u001b[39;00m \u001b[39mself\u001b[39m\u001b[39m.\u001b[39m_forward_hooks \u001b[39mor\u001b[39;00m \u001b[39mself\u001b[39m\u001b[39m.\u001b[39m_forward_pre_hooks \u001b[39mor\u001b[39;00m _global_backward_hooks\n\u001b[0;32m   <a href='file:///c%3A/Users/gaeta/anaconda3/envs/forage/lib/site-packages/torch/nn/modules/module.py?line=1108'>1109</a>\u001b[0m         \u001b[39mor\u001b[39;00m _global_forward_hooks \u001b[39mor\u001b[39;00m _global_forward_pre_hooks):\n\u001b[1;32m-> <a href='file:///c%3A/Users/gaeta/anaconda3/envs/forage/lib/site-packages/torch/nn/modules/module.py?line=1109'>1110</a>\u001b[0m     \u001b[39mreturn\u001b[39;00m forward_call(\u001b[39m*\u001b[39m\u001b[39minput\u001b[39m, \u001b[39m*\u001b[39m\u001b[39m*\u001b[39mkwargs)\n\u001b[0;32m   <a href='file:///c%3A/Users/gaeta/anaconda3/envs/forage/lib/site-packages/torch/nn/modules/module.py?line=1110'>1111</a>\u001b[0m \u001b[39m# Do not call functions when jit is used\u001b[39;00m\n\u001b[0;32m   <a href='file:///c%3A/Users/gaeta/anaconda3/envs/forage/lib/site-packages/torch/nn/modules/module.py?line=1111'>1112</a>\u001b[0m full_backward_hooks, non_full_backward_hooks \u001b[39m=\u001b[39m [], []\n",
      "File \u001b[1;32m~\\anaconda3\\envs\\forage\\lib\\site-packages\\torch\\nn\\modules\\linear.py:103\u001b[0m, in \u001b[0;36mLinear.forward\u001b[1;34m(self, input)\u001b[0m\n\u001b[0;32m    <a href='file:///c%3A/Users/gaeta/anaconda3/envs/forage/lib/site-packages/torch/nn/modules/linear.py?line=101'>102</a>\u001b[0m \u001b[39mdef\u001b[39;00m \u001b[39mforward\u001b[39m(\u001b[39mself\u001b[39m, \u001b[39minput\u001b[39m: Tensor) \u001b[39m-\u001b[39m\u001b[39m>\u001b[39m Tensor:\n\u001b[1;32m--> <a href='file:///c%3A/Users/gaeta/anaconda3/envs/forage/lib/site-packages/torch/nn/modules/linear.py?line=102'>103</a>\u001b[0m     \u001b[39mreturn\u001b[39;00m F\u001b[39m.\u001b[39;49mlinear(\u001b[39minput\u001b[39;49m, \u001b[39mself\u001b[39;49m\u001b[39m.\u001b[39;49mweight, \u001b[39mself\u001b[39;49m\u001b[39m.\u001b[39;49mbias)\n",
      "\u001b[1;31mRuntimeError\u001b[0m: mat1 and mat2 shapes cannot be multiplied (3x65536 and 262144x20)"
     ]
    }
   ],
   "source": [
    "epoch=10\n",
    "model_trainer.train(epoch)"
   ]
  },
  {
   "cell_type": "code",
   "execution_count": null,
   "metadata": {},
   "outputs": [
    {
     "name": "stdout",
     "output_type": "stream",
     "text": [
      "Accuracy on the test set: 0.050 %\n"
     ]
    },
    {
     "ename": "TypeError",
     "evalue": "plot_metrics() missing 1 required positional argument: 'path'",
     "output_type": "error",
     "traceback": [
      "\u001b[1;31m---------------------------------------------------------------------------\u001b[0m",
      "\u001b[1;31mTypeError\u001b[0m                                 Traceback (most recent call last)",
      "\u001b[1;32mc:\\Users\\gaeta\\OneDrive\\Documents\\Developpement\\Python\\Forage\\Projet\\HappyWhale\\src\\HappyWhale.ipynb Cell 13'\u001b[0m in \u001b[0;36m<cell line: 2>\u001b[1;34m()\u001b[0m\n\u001b[0;32m      <a href='vscode-notebook-cell:/c%3A/Users/gaeta/OneDrive/Documents/Developpement/Python/Forage/Projet/HappyWhale/src/HappyWhale.ipynb#ch0000012?line=0'>1</a>\u001b[0m model_trainer\u001b[39m.\u001b[39mevaluate_on_test_set()\n\u001b[1;32m----> <a href='vscode-notebook-cell:/c%3A/Users/gaeta/OneDrive/Documents/Developpement/Python/Forage/Projet/HappyWhale/src/HappyWhale.ipynb#ch0000012?line=1'>2</a>\u001b[0m model_trainer\u001b[39m.\u001b[39;49mplot_metrics()\n",
      "\u001b[1;31mTypeError\u001b[0m: plot_metrics() missing 1 required positional argument: 'path'"
     ]
    }
   ],
   "source": [
    "model_trainer.evaluate_on_test_set()\n",
    "model_trainer.plot_metrics()"
   ]
  },
  {
   "cell_type": "markdown",
   "metadata": {},
   "source": []
  }
 ],
 "metadata": {
  "interpreter": {
   "hash": "047959887fc7b401bc223e3aa5310c3a590340a33f47823b1d5749438031b6f9"
  },
  "kernelspec": {
   "display_name": "Python 3.9.7 64-bit ('.venv_ift780': venv)",
   "language": "python",
   "name": "python3"
  },
  "language_info": {
   "codemirror_mode": {
    "name": "ipython",
    "version": 3
   },
   "file_extension": ".py",
   "mimetype": "text/x-python",
   "name": "python",
   "nbconvert_exporter": "python",
   "pygments_lexer": "ipython3",
   "version": "3.9.12"
  },
  "orig_nbformat": 4
 },
 "nbformat": 4,
 "nbformat_minor": 2
}
