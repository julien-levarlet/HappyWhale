{
 "cells": [
  {
   "cell_type": "code",
   "execution_count": 1,
   "metadata": {},
   "outputs": [],
   "source": [
    "try:\n",
    "    from google.colab import drive\n",
    "    drive.mount('/content/drive')\n",
    "    !cp -r drive/MyDrive/HappyWhale/* .\n",
    "    IN_COLAB = True\n",
    "except:\n",
    "  IN_COLAB = False"
   ]
  },
  {
   "cell_type": "markdown",
   "metadata": {},
   "source": [
    "# HappyWhale Challenge - Team WhalePlayed\n",
    "\n",
    "This notebook presents the work done by Gaétan Rey, Julien Levarlet and Timothée Wright, as part of the challenge https://www.kaggle.com/competitions/happy-whale-and-dolphin/overview ."
   ]
  },
  {
   "cell_type": "markdown",
   "metadata": {},
   "source": [
    "Imports :"
   ]
  },
  {
   "cell_type": "code",
   "execution_count": 2,
   "metadata": {},
   "outputs": [],
   "source": [
    "import torch.nn as nn\n",
    "import torch\n",
    "from ModelTrainTestManager import ModelTrainTestManager, optimizer_setup\n",
    "from DataManager import DataManager\n",
    "from Models.ResNet import ResNet"
   ]
  },
  {
   "cell_type": "markdown",
   "metadata": {},
   "source": [
    "Parameters for the data :"
   ]
  },
  {
   "cell_type": "code",
   "execution_count": 3,
   "metadata": {},
   "outputs": [],
   "source": [
    "data_csv = \"../data/common_train.csv\"\n",
    "dataFolderPath = \"../data/common_cropped_train_imgs\""
   ]
  },
  {
   "cell_type": "markdown",
   "metadata": {},
   "source": [
    "Parameters for the training :"
   ]
  },
  {
   "cell_type": "code",
   "execution_count": 4,
   "metadata": {},
   "outputs": [],
   "source": [
    "batch_size = 1\n",
    "learning_rate = 0.01\n",
    "optimizer_factory = optimizer_setup(torch.optim.Adam, lr=learning_rate)\n",
    "\n",
    "test_percentage = 0.2\n",
    "val_percentage = 0.2\n",
    "\n",
    "exp_name = \"HappyWhale\""
   ]
  },
  {
   "cell_type": "markdown",
   "metadata": {},
   "source": [
    "Parameters for the model :"
   ]
  },
  {
   "cell_type": "code",
   "execution_count": 5,
   "metadata": {},
   "outputs": [],
   "source": [
    "num_classes=21\n",
    "in_channels=1\n",
    "depth=4\n",
    "option=\"small\"\n",
    "size=256\n",
    "\n",
    "model = ResNet(num_classes, in_channels, depth, option, size)"
   ]
  },
  {
   "cell_type": "code",
   "execution_count": 6,
   "metadata": {},
   "outputs": [],
   "source": [
    "data_manager = DataManager(data_csv, dataFolderPath, batch_size,\n",
    "                test_percentage, val_percentage)\n",
    "\n",
    "model_trainer = ModelTrainTestManager(model=model,\n",
    "                                        data_manager = data_manager,\n",
    "                                        loss_fn=nn.CrossEntropyLoss(),\n",
    "                                        optimizer_factory=optimizer_factory,\n",
    "                                        exp_name = exp_name ,\n",
    "                                        learning_rate=learning_rate,\n",
    "                                        use_cuda=True)"
   ]
  },
  {
   "cell_type": "code",
   "execution_count": 7,
   "metadata": {},
   "outputs": [
    {
     "name": "stdout",
     "output_type": "stream",
     "text": [
      "Epoch: 1 of 1\n"
     ]
    },
    {
     "name": "stderr",
     "output_type": "stream",
     "text": [
      "  0%|          | 0/360 [00:00<?, ?it/s]\n"
     ]
    },
    {
     "ename": "AttributeError",
     "evalue": "'WhaleDataset' object has no attribute 'img_dir'",
     "output_type": "error",
     "traceback": [
      "\u001b[1;31m---------------------------------------------------------------------------\u001b[0m",
      "\u001b[1;31mAttributeError\u001b[0m                            Traceback (most recent call last)",
      "\u001b[1;32mc:\\Users\\gaeta\\OneDrive\\Documents\\Developpement\\Python\\Forage\\Projet\\HappyWhale\\src\\HappyWhale.ipynb Cell 12'\u001b[0m in \u001b[0;36m<cell line: 1>\u001b[1;34m()\u001b[0m\n\u001b[1;32m----> <a href='vscode-notebook-cell:/c%3A/Users/gaeta/OneDrive/Documents/Developpement/Python/Forage/Projet/HappyWhale/src/HappyWhale.ipynb#ch0000011?line=0'>1</a>\u001b[0m model_trainer\u001b[39m.\u001b[39;49mtrain(\u001b[39m1\u001b[39;49m)\n",
      "File \u001b[1;32mc:\\Users\\gaeta\\OneDrive\\Documents\\Developpement\\Python\\Forage\\Projet\\HappyWhale\\src\\ModelTrainTestManager.py:94\u001b[0m, in \u001b[0;36mModelTrainTestManager.train\u001b[1;34m(self, num_epochs, start_epoch, metric_values)\u001b[0m\n\u001b[0;32m     <a href='file:///c%3A/Users/gaeta/OneDrive/Documents/Developpement/Python/Forage/Projet/HappyWhale/src/ModelTrainTestManager.py?line=91'>92</a>\u001b[0m train_losses \u001b[39m=\u001b[39m []\n\u001b[0;32m     <a href='file:///c%3A/Users/gaeta/OneDrive/Documents/Developpement/Python/Forage/Projet/HappyWhale/src/ModelTrainTestManager.py?line=92'>93</a>\u001b[0m train_accuracies \u001b[39m=\u001b[39m []\n\u001b[1;32m---> <a href='file:///c%3A/Users/gaeta/OneDrive/Documents/Developpement/Python/Forage/Projet/HappyWhale/src/ModelTrainTestManager.py?line=93'>94</a>\u001b[0m \u001b[39mfor\u001b[39;00m i, data \u001b[39min\u001b[39;00m \u001b[39menumerate\u001b[39m(train_loader, \u001b[39m0\u001b[39m):\n\u001b[0;32m     <a href='file:///c%3A/Users/gaeta/OneDrive/Documents/Developpement/Python/Forage/Projet/HappyWhale/src/ModelTrainTestManager.py?line=94'>95</a>\u001b[0m     \u001b[39m# transfer tensors to selected device\u001b[39;00m\n\u001b[0;32m     <a href='file:///c%3A/Users/gaeta/OneDrive/Documents/Developpement/Python/Forage/Projet/HappyWhale/src/ModelTrainTestManager.py?line=95'>96</a>\u001b[0m     train_inputs, train_labels \u001b[39m=\u001b[39m \\\n\u001b[0;32m     <a href='file:///c%3A/Users/gaeta/OneDrive/Documents/Developpement/Python/Forage/Projet/HappyWhale/src/ModelTrainTestManager.py?line=96'>97</a>\u001b[0m         data[\u001b[39m0\u001b[39m]\u001b[39m.\u001b[39mto(\u001b[39mself\u001b[39m\u001b[39m.\u001b[39mdevice, dtype\u001b[39m=\u001b[39mtorch\u001b[39m.\u001b[39mfloat), \\\n\u001b[0;32m     <a href='file:///c%3A/Users/gaeta/OneDrive/Documents/Developpement/Python/Forage/Projet/HappyWhale/src/ModelTrainTestManager.py?line=97'>98</a>\u001b[0m         data[\u001b[39m1\u001b[39m]\u001b[39m.\u001b[39mto(\u001b[39mself\u001b[39m\u001b[39m.\u001b[39mdevice, dtype\u001b[39m=\u001b[39mtorch\u001b[39m.\u001b[39mlong)\n\u001b[0;32m     <a href='file:///c%3A/Users/gaeta/OneDrive/Documents/Developpement/Python/Forage/Projet/HappyWhale/src/ModelTrainTestManager.py?line=98'>99</a>\u001b[0m     \u001b[39m# zero the parameter gradients\u001b[39;00m\n",
      "File \u001b[1;32m~\\anaconda3\\envs\\forage\\lib\\site-packages\\torch\\utils\\data\\dataloader.py:530\u001b[0m, in \u001b[0;36m_BaseDataLoaderIter.__next__\u001b[1;34m(self)\u001b[0m\n\u001b[0;32m    <a href='file:///c%3A/Users/gaeta/anaconda3/envs/forage/lib/site-packages/torch/utils/data/dataloader.py?line=527'>528</a>\u001b[0m \u001b[39mif\u001b[39;00m \u001b[39mself\u001b[39m\u001b[39m.\u001b[39m_sampler_iter \u001b[39mis\u001b[39;00m \u001b[39mNone\u001b[39;00m:\n\u001b[0;32m    <a href='file:///c%3A/Users/gaeta/anaconda3/envs/forage/lib/site-packages/torch/utils/data/dataloader.py?line=528'>529</a>\u001b[0m     \u001b[39mself\u001b[39m\u001b[39m.\u001b[39m_reset()\n\u001b[1;32m--> <a href='file:///c%3A/Users/gaeta/anaconda3/envs/forage/lib/site-packages/torch/utils/data/dataloader.py?line=529'>530</a>\u001b[0m data \u001b[39m=\u001b[39m \u001b[39mself\u001b[39;49m\u001b[39m.\u001b[39;49m_next_data()\n\u001b[0;32m    <a href='file:///c%3A/Users/gaeta/anaconda3/envs/forage/lib/site-packages/torch/utils/data/dataloader.py?line=530'>531</a>\u001b[0m \u001b[39mself\u001b[39m\u001b[39m.\u001b[39m_num_yielded \u001b[39m+\u001b[39m\u001b[39m=\u001b[39m \u001b[39m1\u001b[39m\n\u001b[0;32m    <a href='file:///c%3A/Users/gaeta/anaconda3/envs/forage/lib/site-packages/torch/utils/data/dataloader.py?line=531'>532</a>\u001b[0m \u001b[39mif\u001b[39;00m \u001b[39mself\u001b[39m\u001b[39m.\u001b[39m_dataset_kind \u001b[39m==\u001b[39m _DatasetKind\u001b[39m.\u001b[39mIterable \u001b[39mand\u001b[39;00m \\\n\u001b[0;32m    <a href='file:///c%3A/Users/gaeta/anaconda3/envs/forage/lib/site-packages/torch/utils/data/dataloader.py?line=532'>533</a>\u001b[0m         \u001b[39mself\u001b[39m\u001b[39m.\u001b[39m_IterableDataset_len_called \u001b[39mis\u001b[39;00m \u001b[39mnot\u001b[39;00m \u001b[39mNone\u001b[39;00m \u001b[39mand\u001b[39;00m \\\n\u001b[0;32m    <a href='file:///c%3A/Users/gaeta/anaconda3/envs/forage/lib/site-packages/torch/utils/data/dataloader.py?line=533'>534</a>\u001b[0m         \u001b[39mself\u001b[39m\u001b[39m.\u001b[39m_num_yielded \u001b[39m>\u001b[39m \u001b[39mself\u001b[39m\u001b[39m.\u001b[39m_IterableDataset_len_called:\n",
      "File \u001b[1;32m~\\anaconda3\\envs\\forage\\lib\\site-packages\\torch\\utils\\data\\dataloader.py:570\u001b[0m, in \u001b[0;36m_SingleProcessDataLoaderIter._next_data\u001b[1;34m(self)\u001b[0m\n\u001b[0;32m    <a href='file:///c%3A/Users/gaeta/anaconda3/envs/forage/lib/site-packages/torch/utils/data/dataloader.py?line=567'>568</a>\u001b[0m \u001b[39mdef\u001b[39;00m \u001b[39m_next_data\u001b[39m(\u001b[39mself\u001b[39m):\n\u001b[0;32m    <a href='file:///c%3A/Users/gaeta/anaconda3/envs/forage/lib/site-packages/torch/utils/data/dataloader.py?line=568'>569</a>\u001b[0m     index \u001b[39m=\u001b[39m \u001b[39mself\u001b[39m\u001b[39m.\u001b[39m_next_index()  \u001b[39m# may raise StopIteration\u001b[39;00m\n\u001b[1;32m--> <a href='file:///c%3A/Users/gaeta/anaconda3/envs/forage/lib/site-packages/torch/utils/data/dataloader.py?line=569'>570</a>\u001b[0m     data \u001b[39m=\u001b[39m \u001b[39mself\u001b[39;49m\u001b[39m.\u001b[39;49m_dataset_fetcher\u001b[39m.\u001b[39;49mfetch(index)  \u001b[39m# may raise StopIteration\u001b[39;00m\n\u001b[0;32m    <a href='file:///c%3A/Users/gaeta/anaconda3/envs/forage/lib/site-packages/torch/utils/data/dataloader.py?line=570'>571</a>\u001b[0m     \u001b[39mif\u001b[39;00m \u001b[39mself\u001b[39m\u001b[39m.\u001b[39m_pin_memory:\n\u001b[0;32m    <a href='file:///c%3A/Users/gaeta/anaconda3/envs/forage/lib/site-packages/torch/utils/data/dataloader.py?line=571'>572</a>\u001b[0m         data \u001b[39m=\u001b[39m _utils\u001b[39m.\u001b[39mpin_memory\u001b[39m.\u001b[39mpin_memory(data)\n",
      "File \u001b[1;32m~\\anaconda3\\envs\\forage\\lib\\site-packages\\torch\\utils\\data\\_utils\\fetch.py:49\u001b[0m, in \u001b[0;36m_MapDatasetFetcher.fetch\u001b[1;34m(self, possibly_batched_index)\u001b[0m\n\u001b[0;32m     <a href='file:///c%3A/Users/gaeta/anaconda3/envs/forage/lib/site-packages/torch/utils/data/_utils/fetch.py?line=46'>47</a>\u001b[0m \u001b[39mdef\u001b[39;00m \u001b[39mfetch\u001b[39m(\u001b[39mself\u001b[39m, possibly_batched_index):\n\u001b[0;32m     <a href='file:///c%3A/Users/gaeta/anaconda3/envs/forage/lib/site-packages/torch/utils/data/_utils/fetch.py?line=47'>48</a>\u001b[0m     \u001b[39mif\u001b[39;00m \u001b[39mself\u001b[39m\u001b[39m.\u001b[39mauto_collation:\n\u001b[1;32m---> <a href='file:///c%3A/Users/gaeta/anaconda3/envs/forage/lib/site-packages/torch/utils/data/_utils/fetch.py?line=48'>49</a>\u001b[0m         data \u001b[39m=\u001b[39m [\u001b[39mself\u001b[39m\u001b[39m.\u001b[39mdataset[idx] \u001b[39mfor\u001b[39;00m idx \u001b[39min\u001b[39;00m possibly_batched_index]\n\u001b[0;32m     <a href='file:///c%3A/Users/gaeta/anaconda3/envs/forage/lib/site-packages/torch/utils/data/_utils/fetch.py?line=49'>50</a>\u001b[0m     \u001b[39melse\u001b[39;00m:\n\u001b[0;32m     <a href='file:///c%3A/Users/gaeta/anaconda3/envs/forage/lib/site-packages/torch/utils/data/_utils/fetch.py?line=50'>51</a>\u001b[0m         data \u001b[39m=\u001b[39m \u001b[39mself\u001b[39m\u001b[39m.\u001b[39mdataset[possibly_batched_index]\n",
      "File \u001b[1;32m~\\anaconda3\\envs\\forage\\lib\\site-packages\\torch\\utils\\data\\_utils\\fetch.py:49\u001b[0m, in \u001b[0;36m<listcomp>\u001b[1;34m(.0)\u001b[0m\n\u001b[0;32m     <a href='file:///c%3A/Users/gaeta/anaconda3/envs/forage/lib/site-packages/torch/utils/data/_utils/fetch.py?line=46'>47</a>\u001b[0m \u001b[39mdef\u001b[39;00m \u001b[39mfetch\u001b[39m(\u001b[39mself\u001b[39m, possibly_batched_index):\n\u001b[0;32m     <a href='file:///c%3A/Users/gaeta/anaconda3/envs/forage/lib/site-packages/torch/utils/data/_utils/fetch.py?line=47'>48</a>\u001b[0m     \u001b[39mif\u001b[39;00m \u001b[39mself\u001b[39m\u001b[39m.\u001b[39mauto_collation:\n\u001b[1;32m---> <a href='file:///c%3A/Users/gaeta/anaconda3/envs/forage/lib/site-packages/torch/utils/data/_utils/fetch.py?line=48'>49</a>\u001b[0m         data \u001b[39m=\u001b[39m [\u001b[39mself\u001b[39;49m\u001b[39m.\u001b[39;49mdataset[idx] \u001b[39mfor\u001b[39;00m idx \u001b[39min\u001b[39;00m possibly_batched_index]\n\u001b[0;32m     <a href='file:///c%3A/Users/gaeta/anaconda3/envs/forage/lib/site-packages/torch/utils/data/_utils/fetch.py?line=49'>50</a>\u001b[0m     \u001b[39melse\u001b[39;00m:\n\u001b[0;32m     <a href='file:///c%3A/Users/gaeta/anaconda3/envs/forage/lib/site-packages/torch/utils/data/_utils/fetch.py?line=50'>51</a>\u001b[0m         data \u001b[39m=\u001b[39m \u001b[39mself\u001b[39m\u001b[39m.\u001b[39mdataset[possibly_batched_index]\n",
      "File \u001b[1;32mc:\\Users\\gaeta\\OneDrive\\Documents\\Developpement\\Python\\Forage\\Projet\\HappyWhale\\src\\WhaleDataset.py:25\u001b[0m, in \u001b[0;36mWhaleDataset.__getitem__\u001b[1;34m(self, idx)\u001b[0m\n\u001b[0;32m     <a href='file:///c%3A/Users/gaeta/OneDrive/Documents/Developpement/Python/Forage/Projet/HappyWhale/src/WhaleDataset.py?line=22'>23</a>\u001b[0m \u001b[39mdef\u001b[39;00m \u001b[39m__getitem__\u001b[39m(\u001b[39mself\u001b[39m, idx):\n\u001b[0;32m     <a href='file:///c%3A/Users/gaeta/OneDrive/Documents/Developpement/Python/Forage/Projet/HappyWhale/src/WhaleDataset.py?line=23'>24</a>\u001b[0m     row \u001b[39m=\u001b[39m \u001b[39mself\u001b[39m\u001b[39m.\u001b[39mimg_list\u001b[39m.\u001b[39miloc[[idx]]\n\u001b[1;32m---> <a href='file:///c%3A/Users/gaeta/OneDrive/Documents/Developpement/Python/Forage/Projet/HappyWhale/src/WhaleDataset.py?line=24'>25</a>\u001b[0m     img_path \u001b[39m=\u001b[39m os\u001b[39m.\u001b[39mpath\u001b[39m.\u001b[39mjoin(\u001b[39mself\u001b[39;49m\u001b[39m.\u001b[39;49mimg_dir, row[\u001b[39m'\u001b[39m\u001b[39mimage\u001b[39m\u001b[39m'\u001b[39m])\n\u001b[0;32m     <a href='file:///c%3A/Users/gaeta/OneDrive/Documents/Developpement/Python/Forage/Projet/HappyWhale/src/WhaleDataset.py?line=25'>26</a>\u001b[0m     \u001b[39m# verifier read image\u001b[39;00m\n\u001b[0;32m     <a href='file:///c%3A/Users/gaeta/OneDrive/Documents/Developpement/Python/Forage/Projet/HappyWhale/src/WhaleDataset.py?line=26'>27</a>\u001b[0m     image \u001b[39m=\u001b[39m read_image(img_path)\n",
      "\u001b[1;31mAttributeError\u001b[0m: 'WhaleDataset' object has no attribute 'img_dir'"
     ]
    }
   ],
   "source": [
    "model_trainer.train(1)"
   ]
  }
 ],
 "metadata": {
  "interpreter": {
   "hash": "047959887fc7b401bc223e3aa5310c3a590340a33f47823b1d5749438031b6f9"
  },
  "kernelspec": {
   "display_name": "Python 3.9.7 64-bit ('.venv_ift780': venv)",
   "language": "python",
   "name": "python3"
  },
  "language_info": {
   "codemirror_mode": {
    "name": "ipython",
    "version": 3
   },
   "file_extension": ".py",
   "mimetype": "text/x-python",
   "name": "python",
   "nbconvert_exporter": "python",
   "pygments_lexer": "ipython3",
   "version": "3.9.12"
  },
  "orig_nbformat": 4
 },
 "nbformat": 4,
 "nbformat_minor": 2
}
