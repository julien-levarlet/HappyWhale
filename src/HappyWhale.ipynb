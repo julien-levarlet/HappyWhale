{
 "cells": [
  {
   "cell_type": "code",
   "execution_count": 8,
   "metadata": {},
   "outputs": [],
   "source": [
    "try:\n",
    "  from google.colab import drive\n",
    "  drive.mount('/content/drive')\n",
    "  !cp -r drive/MyDrive/HappyWhale/* .\n",
    "  IN_COLAB = True\n",
    "except:\n",
    "  IN_COLAB = False"
   ]
  },
  {
   "cell_type": "markdown",
   "metadata": {},
   "source": [
    "# HappyWhale Challenge - Team WhalePlayed\n",
    "\n",
    "This notebook presents the work done by Gaétan Rey, Julien Levarlet and Timothée Wright, as part of the challenge https://www.kaggle.com/competitions/happy-whale-and-dolphin/overview ."
   ]
  },
  {
   "cell_type": "markdown",
   "metadata": {},
   "source": [
    "Imports :"
   ]
  },
  {
   "cell_type": "code",
   "execution_count": 9,
   "metadata": {},
   "outputs": [],
   "source": [
    "import torch.nn as nn\n",
    "import torch\n",
    "from ModelTrainTestManager import ModelTrainTestManager, optimizer_setup\n",
    "from DataManager import DataManager\n",
    "from Models.ResNet import ResNet"
   ]
  },
  {
   "cell_type": "markdown",
   "metadata": {},
   "source": [
    "Parameters for the data :"
   ]
  },
  {
   "cell_type": "code",
   "execution_count": 10,
   "metadata": {},
   "outputs": [],
   "source": [
    "data_csv = \"../data/common_train.csv\"\n",
    "dataFolderPath = \"../data/common_cropped_train_imgs\""
   ]
  },
  {
   "cell_type": "markdown",
   "metadata": {},
   "source": [
    "Parameters for the training :"
   ]
  },
  {
   "cell_type": "code",
   "execution_count": 11,
   "metadata": {},
   "outputs": [],
   "source": [
    "batch_size = 1\n",
    "learning_rate = 0.01\n",
    "optimizer_factory = optimizer_setup(torch.optim.Adam, lr=learning_rate)\n",
    "\n",
    "test_percentage = 0.2\n",
    "val_percentage = 0.2\n",
    "\n",
    "exp_name = \"HappyWhale\""
   ]
  },
  {
   "cell_type": "markdown",
   "metadata": {},
   "source": [
    "Parameters for the model :"
   ]
  },
  {
   "cell_type": "code",
   "execution_count": 12,
   "metadata": {},
   "outputs": [],
   "source": [
    "num_classes=21\n",
    "in_channels=3\n",
    "depth=4\n",
    "option=\"small\"\n",
    "size=256\n",
    "\n",
    "model = ResNet(num_classes, in_channels, depth, option, size)"
   ]
  },
  {
   "cell_type": "code",
   "execution_count": 13,
   "metadata": {},
   "outputs": [
    {
     "name": "stdout",
     "output_type": "stream",
     "text": [
      "                image individual_id\n",
      "0  000a8f2d5c316a.jpg  b9907151f66e\n",
      "1  001001f099519f.jpg  19fbb960f07d\n",
      "2  00144776eb476d.jpg  b9907151f66e\n",
      "3  0024057bbc89a4.jpg  114207cab555\n",
      "4  0028f6fa123686.jpg  956562ff2888\n"
     ]
    }
   ],
   "source": [
    "data_manager = DataManager(data_csv, dataFolderPath, batch_size,\n",
    "                test_percentage, val_percentage)\n",
    "\n",
    "model_trainer = ModelTrainTestManager(model=model,\n",
    "                                        data_manager = data_manager,\n",
    "                                        loss_fn=nn.CrossEntropyLoss(),\n",
    "                                        optimizer_factory=optimizer_factory,\n",
    "                                        exp_name = exp_name ,\n",
    "                                        learning_rate=learning_rate,\n",
    "                                        use_cuda=True)"
   ]
  },
  {
   "cell_type": "code",
   "execution_count": 14,
   "metadata": {},
   "outputs": [
    {
     "name": "stdout",
     "output_type": "stream",
     "text": [
      "Epoch: 1 of 1\n"
     ]
    },
    {
     "name": "stderr",
     "output_type": "stream",
     "text": [
      "  0%|          | 0/360 [00:00<?, ?it/s]\n"
     ]
    },
    {
     "ename": "RuntimeError",
     "evalue": "mat1 and mat2 shapes cannot be multiplied (1x100352 and 262144x21)",
     "output_type": "error",
     "traceback": [
      "\u001b[0;31m---------------------------------------------------------------------------\u001b[0m",
      "\u001b[0;31mRuntimeError\u001b[0m                              Traceback (most recent call last)",
      "\u001b[1;32m/home/julien/Documents/3A-Sherbrooke/Forage de donnee/projet/src/HappyWhale.ipynb Cell 12'\u001b[0m in \u001b[0;36m<module>\u001b[0;34m\u001b[0m\n\u001b[0;32m----> <a href='vscode-notebook-cell:/home/julien/Documents/3A-Sherbrooke/Forage%20de%20donnee/projet/src/HappyWhale.ipynb#ch0000011?line=0'>1</a>\u001b[0m model_trainer\u001b[39m.\u001b[39;49mtrain(\u001b[39m1\u001b[39;49m)\n",
      "File \u001b[0;32m~/Documents/3A-Sherbrooke/Forage de donnee/projet/src/ModelTrainTestManager.py:103\u001b[0m, in \u001b[0;36mModelTrainTestManager.train\u001b[0;34m(self, num_epochs, start_epoch, metric_values)\u001b[0m\n\u001b[1;32m    <a href='file:///home/julien/Documents/3A-Sherbrooke/Forage%20de%20donnee/projet/src/ModelTrainTestManager.py?line=99'>100</a>\u001b[0m \u001b[39mself\u001b[39m\u001b[39m.\u001b[39moptimizer\u001b[39m.\u001b[39mzero_grad()\n\u001b[1;32m    <a href='file:///home/julien/Documents/3A-Sherbrooke/Forage%20de%20donnee/projet/src/ModelTrainTestManager.py?line=101'>102</a>\u001b[0m \u001b[39m# forward pass\u001b[39;00m\n\u001b[0;32m--> <a href='file:///home/julien/Documents/3A-Sherbrooke/Forage%20de%20donnee/projet/src/ModelTrainTestManager.py?line=102'>103</a>\u001b[0m train_outputs \u001b[39m=\u001b[39m \u001b[39mself\u001b[39;49m\u001b[39m.\u001b[39;49mmodel(train_inputs)\n\u001b[1;32m    <a href='file:///home/julien/Documents/3A-Sherbrooke/Forage%20de%20donnee/projet/src/ModelTrainTestManager.py?line=103'>104</a>\u001b[0m \u001b[39m# computes loss using loss function loss_fn\u001b[39;00m\n\u001b[1;32m    <a href='file:///home/julien/Documents/3A-Sherbrooke/Forage%20de%20donnee/projet/src/ModelTrainTestManager.py?line=104'>105</a>\u001b[0m loss \u001b[39m=\u001b[39m \u001b[39mself\u001b[39m\u001b[39m.\u001b[39mloss_fn(train_outputs, train_labels)\n",
      "File \u001b[0;32m~/.venv_ift780/lib/python3.9/site-packages/torch/nn/modules/module.py:1102\u001b[0m, in \u001b[0;36mModule._call_impl\u001b[0;34m(self, *input, **kwargs)\u001b[0m\n\u001b[1;32m   <a href='file:///home/julien/.venv_ift780/lib/python3.9/site-packages/torch/nn/modules/module.py?line=1097'>1098</a>\u001b[0m \u001b[39m# If we don't have any hooks, we want to skip the rest of the logic in\u001b[39;00m\n\u001b[1;32m   <a href='file:///home/julien/.venv_ift780/lib/python3.9/site-packages/torch/nn/modules/module.py?line=1098'>1099</a>\u001b[0m \u001b[39m# this function, and just call forward.\u001b[39;00m\n\u001b[1;32m   <a href='file:///home/julien/.venv_ift780/lib/python3.9/site-packages/torch/nn/modules/module.py?line=1099'>1100</a>\u001b[0m \u001b[39mif\u001b[39;00m \u001b[39mnot\u001b[39;00m (\u001b[39mself\u001b[39m\u001b[39m.\u001b[39m_backward_hooks \u001b[39mor\u001b[39;00m \u001b[39mself\u001b[39m\u001b[39m.\u001b[39m_forward_hooks \u001b[39mor\u001b[39;00m \u001b[39mself\u001b[39m\u001b[39m.\u001b[39m_forward_pre_hooks \u001b[39mor\u001b[39;00m _global_backward_hooks\n\u001b[1;32m   <a href='file:///home/julien/.venv_ift780/lib/python3.9/site-packages/torch/nn/modules/module.py?line=1100'>1101</a>\u001b[0m         \u001b[39mor\u001b[39;00m _global_forward_hooks \u001b[39mor\u001b[39;00m _global_forward_pre_hooks):\n\u001b[0;32m-> <a href='file:///home/julien/.venv_ift780/lib/python3.9/site-packages/torch/nn/modules/module.py?line=1101'>1102</a>\u001b[0m     \u001b[39mreturn\u001b[39;00m forward_call(\u001b[39m*\u001b[39;49m\u001b[39minput\u001b[39;49m, \u001b[39m*\u001b[39;49m\u001b[39m*\u001b[39;49mkwargs)\n\u001b[1;32m   <a href='file:///home/julien/.venv_ift780/lib/python3.9/site-packages/torch/nn/modules/module.py?line=1102'>1103</a>\u001b[0m \u001b[39m# Do not call functions when jit is used\u001b[39;00m\n\u001b[1;32m   <a href='file:///home/julien/.venv_ift780/lib/python3.9/site-packages/torch/nn/modules/module.py?line=1103'>1104</a>\u001b[0m full_backward_hooks, non_full_backward_hooks \u001b[39m=\u001b[39m [], []\n",
      "File \u001b[0;32m~/Documents/3A-Sherbrooke/Forage de donnee/projet/src/Models/ResNet.py:121\u001b[0m, in \u001b[0;36mResNet.forward\u001b[0;34m(self, x)\u001b[0m\n\u001b[1;32m    <a href='file:///home/julien/Documents/3A-Sherbrooke/Forage%20de%20donnee/projet/src/Models/ResNet.py?line=118'>119</a>\u001b[0m out \u001b[39m=\u001b[39m \u001b[39mself\u001b[39m\u001b[39m.\u001b[39mavgpool(out)\n\u001b[1;32m    <a href='file:///home/julien/Documents/3A-Sherbrooke/Forage%20de%20donnee/projet/src/Models/ResNet.py?line=119'>120</a>\u001b[0m out\u001b[39m=\u001b[39mout\u001b[39m.\u001b[39mflatten(start_dim\u001b[39m=\u001b[39m\u001b[39m1\u001b[39m)\n\u001b[0;32m--> <a href='file:///home/julien/Documents/3A-Sherbrooke/Forage%20de%20donnee/projet/src/Models/ResNet.py?line=120'>121</a>\u001b[0m out \u001b[39m=\u001b[39m \u001b[39mself\u001b[39;49m\u001b[39m.\u001b[39;49mfc(out)\n\u001b[1;32m    <a href='file:///home/julien/Documents/3A-Sherbrooke/Forage%20de%20donnee/projet/src/Models/ResNet.py?line=121'>122</a>\u001b[0m out\u001b[39m=\u001b[39m\u001b[39mself\u001b[39m\u001b[39m.\u001b[39msoftmax(out)\n\u001b[1;32m    <a href='file:///home/julien/Documents/3A-Sherbrooke/Forage%20de%20donnee/projet/src/Models/ResNet.py?line=122'>123</a>\u001b[0m \u001b[39mreturn\u001b[39;00m out\n",
      "File \u001b[0;32m~/.venv_ift780/lib/python3.9/site-packages/torch/nn/modules/module.py:1102\u001b[0m, in \u001b[0;36mModule._call_impl\u001b[0;34m(self, *input, **kwargs)\u001b[0m\n\u001b[1;32m   <a href='file:///home/julien/.venv_ift780/lib/python3.9/site-packages/torch/nn/modules/module.py?line=1097'>1098</a>\u001b[0m \u001b[39m# If we don't have any hooks, we want to skip the rest of the logic in\u001b[39;00m\n\u001b[1;32m   <a href='file:///home/julien/.venv_ift780/lib/python3.9/site-packages/torch/nn/modules/module.py?line=1098'>1099</a>\u001b[0m \u001b[39m# this function, and just call forward.\u001b[39;00m\n\u001b[1;32m   <a href='file:///home/julien/.venv_ift780/lib/python3.9/site-packages/torch/nn/modules/module.py?line=1099'>1100</a>\u001b[0m \u001b[39mif\u001b[39;00m \u001b[39mnot\u001b[39;00m (\u001b[39mself\u001b[39m\u001b[39m.\u001b[39m_backward_hooks \u001b[39mor\u001b[39;00m \u001b[39mself\u001b[39m\u001b[39m.\u001b[39m_forward_hooks \u001b[39mor\u001b[39;00m \u001b[39mself\u001b[39m\u001b[39m.\u001b[39m_forward_pre_hooks \u001b[39mor\u001b[39;00m _global_backward_hooks\n\u001b[1;32m   <a href='file:///home/julien/.venv_ift780/lib/python3.9/site-packages/torch/nn/modules/module.py?line=1100'>1101</a>\u001b[0m         \u001b[39mor\u001b[39;00m _global_forward_hooks \u001b[39mor\u001b[39;00m _global_forward_pre_hooks):\n\u001b[0;32m-> <a href='file:///home/julien/.venv_ift780/lib/python3.9/site-packages/torch/nn/modules/module.py?line=1101'>1102</a>\u001b[0m     \u001b[39mreturn\u001b[39;00m forward_call(\u001b[39m*\u001b[39;49m\u001b[39minput\u001b[39;49m, \u001b[39m*\u001b[39;49m\u001b[39m*\u001b[39;49mkwargs)\n\u001b[1;32m   <a href='file:///home/julien/.venv_ift780/lib/python3.9/site-packages/torch/nn/modules/module.py?line=1102'>1103</a>\u001b[0m \u001b[39m# Do not call functions when jit is used\u001b[39;00m\n\u001b[1;32m   <a href='file:///home/julien/.venv_ift780/lib/python3.9/site-packages/torch/nn/modules/module.py?line=1103'>1104</a>\u001b[0m full_backward_hooks, non_full_backward_hooks \u001b[39m=\u001b[39m [], []\n",
      "File \u001b[0;32m~/.venv_ift780/lib/python3.9/site-packages/torch/nn/modules/linear.py:103\u001b[0m, in \u001b[0;36mLinear.forward\u001b[0;34m(self, input)\u001b[0m\n\u001b[1;32m    <a href='file:///home/julien/.venv_ift780/lib/python3.9/site-packages/torch/nn/modules/linear.py?line=101'>102</a>\u001b[0m \u001b[39mdef\u001b[39;00m \u001b[39mforward\u001b[39m(\u001b[39mself\u001b[39m, \u001b[39minput\u001b[39m: Tensor) \u001b[39m-\u001b[39m\u001b[39m>\u001b[39m Tensor:\n\u001b[0;32m--> <a href='file:///home/julien/.venv_ift780/lib/python3.9/site-packages/torch/nn/modules/linear.py?line=102'>103</a>\u001b[0m     \u001b[39mreturn\u001b[39;00m F\u001b[39m.\u001b[39;49mlinear(\u001b[39minput\u001b[39;49m, \u001b[39mself\u001b[39;49m\u001b[39m.\u001b[39;49mweight, \u001b[39mself\u001b[39;49m\u001b[39m.\u001b[39;49mbias)\n",
      "File \u001b[0;32m~/.venv_ift780/lib/python3.9/site-packages/torch/nn/functional.py:1848\u001b[0m, in \u001b[0;36mlinear\u001b[0;34m(input, weight, bias)\u001b[0m\n\u001b[1;32m   <a href='file:///home/julien/.venv_ift780/lib/python3.9/site-packages/torch/nn/functional.py?line=1845'>1846</a>\u001b[0m \u001b[39mif\u001b[39;00m has_torch_function_variadic(\u001b[39minput\u001b[39m, weight, bias):\n\u001b[1;32m   <a href='file:///home/julien/.venv_ift780/lib/python3.9/site-packages/torch/nn/functional.py?line=1846'>1847</a>\u001b[0m     \u001b[39mreturn\u001b[39;00m handle_torch_function(linear, (\u001b[39minput\u001b[39m, weight, bias), \u001b[39minput\u001b[39m, weight, bias\u001b[39m=\u001b[39mbias)\n\u001b[0;32m-> <a href='file:///home/julien/.venv_ift780/lib/python3.9/site-packages/torch/nn/functional.py?line=1847'>1848</a>\u001b[0m \u001b[39mreturn\u001b[39;00m torch\u001b[39m.\u001b[39;49m_C\u001b[39m.\u001b[39;49m_nn\u001b[39m.\u001b[39;49mlinear(\u001b[39minput\u001b[39;49m, weight, bias)\n",
      "\u001b[0;31mRuntimeError\u001b[0m: mat1 and mat2 shapes cannot be multiplied (1x100352 and 262144x21)"
     ]
    }
   ],
   "source": [
    "model_trainer.train(1)"
   ]
  }
 ],
 "metadata": {
  "interpreter": {
   "hash": "047959887fc7b401bc223e3aa5310c3a590340a33f47823b1d5749438031b6f9"
  },
  "kernelspec": {
   "display_name": "Python 3.9.7 64-bit ('.venv_ift780': venv)",
   "language": "python",
   "name": "python3"
  },
  "language_info": {
   "codemirror_mode": {
    "name": "ipython",
    "version": 3
   },
   "file_extension": ".py",
   "mimetype": "text/x-python",
   "name": "python",
   "nbconvert_exporter": "python",
   "pygments_lexer": "ipython3",
   "version": "3.9.7"
  },
  "orig_nbformat": 4
 },
 "nbformat": 4,
 "nbformat_minor": 2
}
